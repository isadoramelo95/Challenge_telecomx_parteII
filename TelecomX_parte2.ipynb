{
  "cells": [
    {
      "cell_type": "markdown",
      "source": [
        "# Evasão dos clientes TelecomX"
      ],
      "metadata": {
        "id": "YB_dhiHBDzs-"
      }
    },
    {
      "cell_type": "code",
      "source": [
        "import pandas as pd\n",
        "from pandas import json_normalize"
      ],
      "metadata": {
        "id": "mm-JM0D-D9oT"
      },
      "execution_count": 74,
      "outputs": []
    },
    {
      "cell_type": "code",
      "source": [
        "df = pd.read_csv('/content/dados_transformados.csv')\n",
        "df.head()"
      ],
      "metadata": {
        "colab": {
          "base_uri": "https://localhost:8080/",
          "height": 255
        },
        "id": "CgLBOeBGSO2O",
        "outputId": "58f4382f-9e00-411f-b693-3755bb64d473"
      },
      "execution_count": 75,
      "outputs": [
        {
          "output_type": "execute_result",
          "data": {
            "text/plain": [
              "   ID_Cliente  Cancelamento     Gênero  Idoso  Possui_Companheiro  \\\n",
              "0  0002-orfbo             0   feminino      0                   1   \n",
              "1  0003-mknfe             0  masculino      0                   0   \n",
              "2  0004-tlhlj             1  masculino      0                   0   \n",
              "3  0011-igkff             1  masculino      1                   1   \n",
              "4  0013-exchz             1   feminino      1                   1   \n",
              "\n",
              "   Possui_Dependentes  Meses_de_Contrato  Telefone_Ativo Multiplas_Linhas  \\\n",
              "0                   1                  9               1              NaN   \n",
              "1                   0                  9               1              NaN   \n",
              "2                   0                  4               1              NaN   \n",
              "3                   0                 13               1              NaN   \n",
              "4                   0                  3               1              NaN   \n",
              "\n",
              "  Tipo_Internet  ... Backup_Online Protecao_Dispositivo Suporte_Tecnico  \\\n",
              "0           dsl  ...           NaN                  NaN             NaN   \n",
              "1           dsl  ...           NaN                  NaN             NaN   \n",
              "2  fibra óptica  ...           NaN                  NaN             NaN   \n",
              "3  fibra óptica  ...           NaN                  NaN             NaN   \n",
              "4  fibra óptica  ...           NaN                  NaN             NaN   \n",
              "\n",
              "  internet/streamingtv Streaming_Filmes Tipo_Contrato Fatura_Digital  \\\n",
              "0                  NaN              NaN         anual              1   \n",
              "1                  NaN              NaN        mensal              0   \n",
              "2                  NaN              NaN        mensal              1   \n",
              "3                  NaN              NaN        mensal              1   \n",
              "4                  NaN              NaN        mensal              1   \n",
              "\n",
              "     Forma_Pagamento Valor_Mensal  Valor_Total  \n",
              "0             cheque         65.6       593.30  \n",
              "1             cheque         59.9       542.40  \n",
              "2  cheque eletrônico         73.9       280.85  \n",
              "3  cheque eletrônico         98.0      1237.85  \n",
              "4             cheque         83.9       267.40  \n",
              "\n",
              "[5 rows x 21 columns]"
            ],
            "text/html": [
              "\n",
              "  <div id=\"df-49f73dc1-d968-46f0-8a38-77808be34b86\" class=\"colab-df-container\">\n",
              "    <div>\n",
              "<style scoped>\n",
              "    .dataframe tbody tr th:only-of-type {\n",
              "        vertical-align: middle;\n",
              "    }\n",
              "\n",
              "    .dataframe tbody tr th {\n",
              "        vertical-align: top;\n",
              "    }\n",
              "\n",
              "    .dataframe thead th {\n",
              "        text-align: right;\n",
              "    }\n",
              "</style>\n",
              "<table border=\"1\" class=\"dataframe\">\n",
              "  <thead>\n",
              "    <tr style=\"text-align: right;\">\n",
              "      <th></th>\n",
              "      <th>ID_Cliente</th>\n",
              "      <th>Cancelamento</th>\n",
              "      <th>Gênero</th>\n",
              "      <th>Idoso</th>\n",
              "      <th>Possui_Companheiro</th>\n",
              "      <th>Possui_Dependentes</th>\n",
              "      <th>Meses_de_Contrato</th>\n",
              "      <th>Telefone_Ativo</th>\n",
              "      <th>Multiplas_Linhas</th>\n",
              "      <th>Tipo_Internet</th>\n",
              "      <th>...</th>\n",
              "      <th>Backup_Online</th>\n",
              "      <th>Protecao_Dispositivo</th>\n",
              "      <th>Suporte_Tecnico</th>\n",
              "      <th>internet/streamingtv</th>\n",
              "      <th>Streaming_Filmes</th>\n",
              "      <th>Tipo_Contrato</th>\n",
              "      <th>Fatura_Digital</th>\n",
              "      <th>Forma_Pagamento</th>\n",
              "      <th>Valor_Mensal</th>\n",
              "      <th>Valor_Total</th>\n",
              "    </tr>\n",
              "  </thead>\n",
              "  <tbody>\n",
              "    <tr>\n",
              "      <th>0</th>\n",
              "      <td>0002-orfbo</td>\n",
              "      <td>0</td>\n",
              "      <td>feminino</td>\n",
              "      <td>0</td>\n",
              "      <td>1</td>\n",
              "      <td>1</td>\n",
              "      <td>9</td>\n",
              "      <td>1</td>\n",
              "      <td>NaN</td>\n",
              "      <td>dsl</td>\n",
              "      <td>...</td>\n",
              "      <td>NaN</td>\n",
              "      <td>NaN</td>\n",
              "      <td>NaN</td>\n",
              "      <td>NaN</td>\n",
              "      <td>NaN</td>\n",
              "      <td>anual</td>\n",
              "      <td>1</td>\n",
              "      <td>cheque</td>\n",
              "      <td>65.6</td>\n",
              "      <td>593.30</td>\n",
              "    </tr>\n",
              "    <tr>\n",
              "      <th>1</th>\n",
              "      <td>0003-mknfe</td>\n",
              "      <td>0</td>\n",
              "      <td>masculino</td>\n",
              "      <td>0</td>\n",
              "      <td>0</td>\n",
              "      <td>0</td>\n",
              "      <td>9</td>\n",
              "      <td>1</td>\n",
              "      <td>NaN</td>\n",
              "      <td>dsl</td>\n",
              "      <td>...</td>\n",
              "      <td>NaN</td>\n",
              "      <td>NaN</td>\n",
              "      <td>NaN</td>\n",
              "      <td>NaN</td>\n",
              "      <td>NaN</td>\n",
              "      <td>mensal</td>\n",
              "      <td>0</td>\n",
              "      <td>cheque</td>\n",
              "      <td>59.9</td>\n",
              "      <td>542.40</td>\n",
              "    </tr>\n",
              "    <tr>\n",
              "      <th>2</th>\n",
              "      <td>0004-tlhlj</td>\n",
              "      <td>1</td>\n",
              "      <td>masculino</td>\n",
              "      <td>0</td>\n",
              "      <td>0</td>\n",
              "      <td>0</td>\n",
              "      <td>4</td>\n",
              "      <td>1</td>\n",
              "      <td>NaN</td>\n",
              "      <td>fibra óptica</td>\n",
              "      <td>...</td>\n",
              "      <td>NaN</td>\n",
              "      <td>NaN</td>\n",
              "      <td>NaN</td>\n",
              "      <td>NaN</td>\n",
              "      <td>NaN</td>\n",
              "      <td>mensal</td>\n",
              "      <td>1</td>\n",
              "      <td>cheque eletrônico</td>\n",
              "      <td>73.9</td>\n",
              "      <td>280.85</td>\n",
              "    </tr>\n",
              "    <tr>\n",
              "      <th>3</th>\n",
              "      <td>0011-igkff</td>\n",
              "      <td>1</td>\n",
              "      <td>masculino</td>\n",
              "      <td>1</td>\n",
              "      <td>1</td>\n",
              "      <td>0</td>\n",
              "      <td>13</td>\n",
              "      <td>1</td>\n",
              "      <td>NaN</td>\n",
              "      <td>fibra óptica</td>\n",
              "      <td>...</td>\n",
              "      <td>NaN</td>\n",
              "      <td>NaN</td>\n",
              "      <td>NaN</td>\n",
              "      <td>NaN</td>\n",
              "      <td>NaN</td>\n",
              "      <td>mensal</td>\n",
              "      <td>1</td>\n",
              "      <td>cheque eletrônico</td>\n",
              "      <td>98.0</td>\n",
              "      <td>1237.85</td>\n",
              "    </tr>\n",
              "    <tr>\n",
              "      <th>4</th>\n",
              "      <td>0013-exchz</td>\n",
              "      <td>1</td>\n",
              "      <td>feminino</td>\n",
              "      <td>1</td>\n",
              "      <td>1</td>\n",
              "      <td>0</td>\n",
              "      <td>3</td>\n",
              "      <td>1</td>\n",
              "      <td>NaN</td>\n",
              "      <td>fibra óptica</td>\n",
              "      <td>...</td>\n",
              "      <td>NaN</td>\n",
              "      <td>NaN</td>\n",
              "      <td>NaN</td>\n",
              "      <td>NaN</td>\n",
              "      <td>NaN</td>\n",
              "      <td>mensal</td>\n",
              "      <td>1</td>\n",
              "      <td>cheque</td>\n",
              "      <td>83.9</td>\n",
              "      <td>267.40</td>\n",
              "    </tr>\n",
              "  </tbody>\n",
              "</table>\n",
              "<p>5 rows × 21 columns</p>\n",
              "</div>\n",
              "    <div class=\"colab-df-buttons\">\n",
              "\n",
              "  <div class=\"colab-df-container\">\n",
              "    <button class=\"colab-df-convert\" onclick=\"convertToInteractive('df-49f73dc1-d968-46f0-8a38-77808be34b86')\"\n",
              "            title=\"Convert this dataframe to an interactive table.\"\n",
              "            style=\"display:none;\">\n",
              "\n",
              "  <svg xmlns=\"http://www.w3.org/2000/svg\" height=\"24px\" viewBox=\"0 -960 960 960\">\n",
              "    <path d=\"M120-120v-720h720v720H120Zm60-500h600v-160H180v160Zm220 220h160v-160H400v160Zm0 220h160v-160H400v160ZM180-400h160v-160H180v160Zm440 0h160v-160H620v160ZM180-180h160v-160H180v160Zm440 0h160v-160H620v160Z\"/>\n",
              "  </svg>\n",
              "    </button>\n",
              "\n",
              "  <style>\n",
              "    .colab-df-container {\n",
              "      display:flex;\n",
              "      gap: 12px;\n",
              "    }\n",
              "\n",
              "    .colab-df-convert {\n",
              "      background-color: #E8F0FE;\n",
              "      border: none;\n",
              "      border-radius: 50%;\n",
              "      cursor: pointer;\n",
              "      display: none;\n",
              "      fill: #1967D2;\n",
              "      height: 32px;\n",
              "      padding: 0 0 0 0;\n",
              "      width: 32px;\n",
              "    }\n",
              "\n",
              "    .colab-df-convert:hover {\n",
              "      background-color: #E2EBFA;\n",
              "      box-shadow: 0px 1px 2px rgba(60, 64, 67, 0.3), 0px 1px 3px 1px rgba(60, 64, 67, 0.15);\n",
              "      fill: #174EA6;\n",
              "    }\n",
              "\n",
              "    .colab-df-buttons div {\n",
              "      margin-bottom: 4px;\n",
              "    }\n",
              "\n",
              "    [theme=dark] .colab-df-convert {\n",
              "      background-color: #3B4455;\n",
              "      fill: #D2E3FC;\n",
              "    }\n",
              "\n",
              "    [theme=dark] .colab-df-convert:hover {\n",
              "      background-color: #434B5C;\n",
              "      box-shadow: 0px 1px 3px 1px rgba(0, 0, 0, 0.15);\n",
              "      filter: drop-shadow(0px 1px 2px rgba(0, 0, 0, 0.3));\n",
              "      fill: #FFFFFF;\n",
              "    }\n",
              "  </style>\n",
              "\n",
              "    <script>\n",
              "      const buttonEl =\n",
              "        document.querySelector('#df-49f73dc1-d968-46f0-8a38-77808be34b86 button.colab-df-convert');\n",
              "      buttonEl.style.display =\n",
              "        google.colab.kernel.accessAllowed ? 'block' : 'none';\n",
              "\n",
              "      async function convertToInteractive(key) {\n",
              "        const element = document.querySelector('#df-49f73dc1-d968-46f0-8a38-77808be34b86');\n",
              "        const dataTable =\n",
              "          await google.colab.kernel.invokeFunction('convertToInteractive',\n",
              "                                                    [key], {});\n",
              "        if (!dataTable) return;\n",
              "\n",
              "        const docLinkHtml = 'Like what you see? Visit the ' +\n",
              "          '<a target=\"_blank\" href=https://colab.research.google.com/notebooks/data_table.ipynb>data table notebook</a>'\n",
              "          + ' to learn more about interactive tables.';\n",
              "        element.innerHTML = '';\n",
              "        dataTable['output_type'] = 'display_data';\n",
              "        await google.colab.output.renderOutput(dataTable, element);\n",
              "        const docLink = document.createElement('div');\n",
              "        docLink.innerHTML = docLinkHtml;\n",
              "        element.appendChild(docLink);\n",
              "      }\n",
              "    </script>\n",
              "  </div>\n",
              "\n",
              "\n",
              "    <div id=\"df-cc610508-b7b4-4abb-97ec-f996e6dc35ec\">\n",
              "      <button class=\"colab-df-quickchart\" onclick=\"quickchart('df-cc610508-b7b4-4abb-97ec-f996e6dc35ec')\"\n",
              "                title=\"Suggest charts\"\n",
              "                style=\"display:none;\">\n",
              "\n",
              "<svg xmlns=\"http://www.w3.org/2000/svg\" height=\"24px\"viewBox=\"0 0 24 24\"\n",
              "     width=\"24px\">\n",
              "    <g>\n",
              "        <path d=\"M19 3H5c-1.1 0-2 .9-2 2v14c0 1.1.9 2 2 2h14c1.1 0 2-.9 2-2V5c0-1.1-.9-2-2-2zM9 17H7v-7h2v7zm4 0h-2V7h2v10zm4 0h-2v-4h2v4z\"/>\n",
              "    </g>\n",
              "</svg>\n",
              "      </button>\n",
              "\n",
              "<style>\n",
              "  .colab-df-quickchart {\n",
              "      --bg-color: #E8F0FE;\n",
              "      --fill-color: #1967D2;\n",
              "      --hover-bg-color: #E2EBFA;\n",
              "      --hover-fill-color: #174EA6;\n",
              "      --disabled-fill-color: #AAA;\n",
              "      --disabled-bg-color: #DDD;\n",
              "  }\n",
              "\n",
              "  [theme=dark] .colab-df-quickchart {\n",
              "      --bg-color: #3B4455;\n",
              "      --fill-color: #D2E3FC;\n",
              "      --hover-bg-color: #434B5C;\n",
              "      --hover-fill-color: #FFFFFF;\n",
              "      --disabled-bg-color: #3B4455;\n",
              "      --disabled-fill-color: #666;\n",
              "  }\n",
              "\n",
              "  .colab-df-quickchart {\n",
              "    background-color: var(--bg-color);\n",
              "    border: none;\n",
              "    border-radius: 50%;\n",
              "    cursor: pointer;\n",
              "    display: none;\n",
              "    fill: var(--fill-color);\n",
              "    height: 32px;\n",
              "    padding: 0;\n",
              "    width: 32px;\n",
              "  }\n",
              "\n",
              "  .colab-df-quickchart:hover {\n",
              "    background-color: var(--hover-bg-color);\n",
              "    box-shadow: 0 1px 2px rgba(60, 64, 67, 0.3), 0 1px 3px 1px rgba(60, 64, 67, 0.15);\n",
              "    fill: var(--button-hover-fill-color);\n",
              "  }\n",
              "\n",
              "  .colab-df-quickchart-complete:disabled,\n",
              "  .colab-df-quickchart-complete:disabled:hover {\n",
              "    background-color: var(--disabled-bg-color);\n",
              "    fill: var(--disabled-fill-color);\n",
              "    box-shadow: none;\n",
              "  }\n",
              "\n",
              "  .colab-df-spinner {\n",
              "    border: 2px solid var(--fill-color);\n",
              "    border-color: transparent;\n",
              "    border-bottom-color: var(--fill-color);\n",
              "    animation:\n",
              "      spin 1s steps(1) infinite;\n",
              "  }\n",
              "\n",
              "  @keyframes spin {\n",
              "    0% {\n",
              "      border-color: transparent;\n",
              "      border-bottom-color: var(--fill-color);\n",
              "      border-left-color: var(--fill-color);\n",
              "    }\n",
              "    20% {\n",
              "      border-color: transparent;\n",
              "      border-left-color: var(--fill-color);\n",
              "      border-top-color: var(--fill-color);\n",
              "    }\n",
              "    30% {\n",
              "      border-color: transparent;\n",
              "      border-left-color: var(--fill-color);\n",
              "      border-top-color: var(--fill-color);\n",
              "      border-right-color: var(--fill-color);\n",
              "    }\n",
              "    40% {\n",
              "      border-color: transparent;\n",
              "      border-right-color: var(--fill-color);\n",
              "      border-top-color: var(--fill-color);\n",
              "    }\n",
              "    60% {\n",
              "      border-color: transparent;\n",
              "      border-right-color: var(--fill-color);\n",
              "    }\n",
              "    80% {\n",
              "      border-color: transparent;\n",
              "      border-right-color: var(--fill-color);\n",
              "      border-bottom-color: var(--fill-color);\n",
              "    }\n",
              "    90% {\n",
              "      border-color: transparent;\n",
              "      border-bottom-color: var(--fill-color);\n",
              "    }\n",
              "  }\n",
              "</style>\n",
              "\n",
              "      <script>\n",
              "        async function quickchart(key) {\n",
              "          const quickchartButtonEl =\n",
              "            document.querySelector('#' + key + ' button');\n",
              "          quickchartButtonEl.disabled = true;  // To prevent multiple clicks.\n",
              "          quickchartButtonEl.classList.add('colab-df-spinner');\n",
              "          try {\n",
              "            const charts = await google.colab.kernel.invokeFunction(\n",
              "                'suggestCharts', [key], {});\n",
              "          } catch (error) {\n",
              "            console.error('Error during call to suggestCharts:', error);\n",
              "          }\n",
              "          quickchartButtonEl.classList.remove('colab-df-spinner');\n",
              "          quickchartButtonEl.classList.add('colab-df-quickchart-complete');\n",
              "        }\n",
              "        (() => {\n",
              "          let quickchartButtonEl =\n",
              "            document.querySelector('#df-cc610508-b7b4-4abb-97ec-f996e6dc35ec button');\n",
              "          quickchartButtonEl.style.display =\n",
              "            google.colab.kernel.accessAllowed ? 'block' : 'none';\n",
              "        })();\n",
              "      </script>\n",
              "    </div>\n",
              "\n",
              "    </div>\n",
              "  </div>\n"
            ],
            "application/vnd.google.colaboratory.intrinsic+json": {
              "type": "dataframe",
              "variable_name": "df"
            }
          },
          "metadata": {},
          "execution_count": 75
        }
      ]
    },
    {
      "cell_type": "code",
      "source": [
        "df.columns"
      ],
      "metadata": {
        "colab": {
          "base_uri": "https://localhost:8080/"
        },
        "id": "3lLbRednYU2O",
        "outputId": "4ec1e636-6fbc-48c2-829b-ba503144eaf4"
      },
      "execution_count": 76,
      "outputs": [
        {
          "output_type": "execute_result",
          "data": {
            "text/plain": [
              "Index(['ID_Cliente', 'Cancelamento', 'Gênero', 'Idoso', 'Possui_Companheiro',\n",
              "       'Possui_Dependentes', 'Meses_de_Contrato', 'Telefone_Ativo',\n",
              "       'Multiplas_Linhas', 'Tipo_Internet', 'Seguranca_Online',\n",
              "       'Backup_Online', 'Protecao_Dispositivo', 'Suporte_Tecnico',\n",
              "       'internet/streamingtv', 'Streaming_Filmes', 'Tipo_Contrato',\n",
              "       'Fatura_Digital', 'Forma_Pagamento', 'Valor_Mensal', 'Valor_Total'],\n",
              "      dtype='object')"
            ]
          },
          "metadata": {},
          "execution_count": 76
        }
      ]
    },
    {
      "cell_type": "code",
      "source": [
        "df.info()"
      ],
      "metadata": {
        "colab": {
          "base_uri": "https://localhost:8080/"
        },
        "id": "cUSy0tABeF-B",
        "outputId": "b62db1b3-f234-454f-ef19-83af02ebf8ed"
      },
      "execution_count": 77,
      "outputs": [
        {
          "output_type": "stream",
          "name": "stdout",
          "text": [
            "<class 'pandas.core.frame.DataFrame'>\n",
            "RangeIndex: 7043 entries, 0 to 7042\n",
            "Data columns (total 21 columns):\n",
            " #   Column                Non-Null Count  Dtype  \n",
            "---  ------                --------------  -----  \n",
            " 0   ID_Cliente            7043 non-null   object \n",
            " 1   Cancelamento          7043 non-null   int64  \n",
            " 2   Gênero                7043 non-null   object \n",
            " 3   Idoso                 7043 non-null   int64  \n",
            " 4   Possui_Companheiro    7043 non-null   int64  \n",
            " 5   Possui_Dependentes    7043 non-null   int64  \n",
            " 6   Meses_de_Contrato     7043 non-null   int64  \n",
            " 7   Telefone_Ativo        7043 non-null   int64  \n",
            " 8   Multiplas_Linhas      682 non-null    object \n",
            " 9   Tipo_Internet         5517 non-null   object \n",
            " 10  Seguranca_Online      1526 non-null   object \n",
            " 11  Backup_Online         1526 non-null   object \n",
            " 12  Protecao_Dispositivo  1526 non-null   object \n",
            " 13  Suporte_Tecnico       1526 non-null   object \n",
            " 14  internet/streamingtv  1526 non-null   object \n",
            " 15  Streaming_Filmes      1526 non-null   object \n",
            " 16  Tipo_Contrato         7043 non-null   object \n",
            " 17  Fatura_Digital        7043 non-null   int64  \n",
            " 18  Forma_Pagamento       7043 non-null   object \n",
            " 19  Valor_Mensal          7043 non-null   float64\n",
            " 20  Valor_Total           7032 non-null   float64\n",
            "dtypes: float64(2), int64(7), object(12)\n",
            "memory usage: 1.1+ MB\n"
          ]
        }
      ]
    },
    {
      "cell_type": "code",
      "source": [
        "df.apply(lambda x: x.unique())"
      ],
      "metadata": {
        "colab": {
          "base_uri": "https://localhost:8080/",
          "height": 742
        },
        "id": "LGxQYpYUeakk",
        "outputId": "06c687a2-eee3-4bb8-a3e0-8269bd125e2b"
      },
      "execution_count": 78,
      "outputs": [
        {
          "output_type": "execute_result",
          "data": {
            "text/plain": [
              "ID_Cliente              [0002-orfbo, 0003-mknfe, 0004-tlhlj, 0011-igkf...\n",
              "Cancelamento                                                       [0, 1]\n",
              "Gênero                                              [feminino, masculino]\n",
              "Idoso                                                              [0, 1]\n",
              "Possui_Companheiro                                                 [1, 0]\n",
              "Possui_Dependentes                                                 [1, 0]\n",
              "Meses_de_Contrato       [9, 4, 13, 3, 71, 63, 7, 65, 54, 72, 5, 56, 34...\n",
              "Telefone_Ativo                                                     [1, 0]\n",
              "Multiplas_Linhas                            [nan, sem serviço telefônico]\n",
              "Tipo_Internet                                    [dsl, fibra óptica, nan]\n",
              "Seguranca_Online                           [nan, sem serviço de internet]\n",
              "Backup_Online                              [nan, sem serviço de internet]\n",
              "Protecao_Dispositivo                       [nan, sem serviço de internet]\n",
              "Suporte_Tecnico                            [nan, sem serviço de internet]\n",
              "internet/streamingtv                       [nan, sem serviço de internet]\n",
              "Streaming_Filmes                           [nan, sem serviço de internet]\n",
              "Tipo_Contrato                                     [anual, mensal, bienal]\n",
              "Fatura_Digital                                                     [1, 0]\n",
              "Forma_Pagamento         [cheque, cheque eletrônico, cartão de crédito ...\n",
              "Valor_Mensal            [65.6, 59.9, 73.9, 98.0, 83.9, 69.4, 109.7, 84...\n",
              "Valor_Total             [593.3, 542.4, 280.85, 1237.85, 267.4, 571.45,...\n",
              "dtype: object"
            ],
            "text/html": [
              "<div>\n",
              "<style scoped>\n",
              "    .dataframe tbody tr th:only-of-type {\n",
              "        vertical-align: middle;\n",
              "    }\n",
              "\n",
              "    .dataframe tbody tr th {\n",
              "        vertical-align: top;\n",
              "    }\n",
              "\n",
              "    .dataframe thead th {\n",
              "        text-align: right;\n",
              "    }\n",
              "</style>\n",
              "<table border=\"1\" class=\"dataframe\">\n",
              "  <thead>\n",
              "    <tr style=\"text-align: right;\">\n",
              "      <th></th>\n",
              "      <th>0</th>\n",
              "    </tr>\n",
              "  </thead>\n",
              "  <tbody>\n",
              "    <tr>\n",
              "      <th>ID_Cliente</th>\n",
              "      <td>[0002-orfbo, 0003-mknfe, 0004-tlhlj, 0011-igkf...</td>\n",
              "    </tr>\n",
              "    <tr>\n",
              "      <th>Cancelamento</th>\n",
              "      <td>[0, 1]</td>\n",
              "    </tr>\n",
              "    <tr>\n",
              "      <th>Gênero</th>\n",
              "      <td>[feminino, masculino]</td>\n",
              "    </tr>\n",
              "    <tr>\n",
              "      <th>Idoso</th>\n",
              "      <td>[0, 1]</td>\n",
              "    </tr>\n",
              "    <tr>\n",
              "      <th>Possui_Companheiro</th>\n",
              "      <td>[1, 0]</td>\n",
              "    </tr>\n",
              "    <tr>\n",
              "      <th>Possui_Dependentes</th>\n",
              "      <td>[1, 0]</td>\n",
              "    </tr>\n",
              "    <tr>\n",
              "      <th>Meses_de_Contrato</th>\n",
              "      <td>[9, 4, 13, 3, 71, 63, 7, 65, 54, 72, 5, 56, 34...</td>\n",
              "    </tr>\n",
              "    <tr>\n",
              "      <th>Telefone_Ativo</th>\n",
              "      <td>[1, 0]</td>\n",
              "    </tr>\n",
              "    <tr>\n",
              "      <th>Multiplas_Linhas</th>\n",
              "      <td>[nan, sem serviço telefônico]</td>\n",
              "    </tr>\n",
              "    <tr>\n",
              "      <th>Tipo_Internet</th>\n",
              "      <td>[dsl, fibra óptica, nan]</td>\n",
              "    </tr>\n",
              "    <tr>\n",
              "      <th>Seguranca_Online</th>\n",
              "      <td>[nan, sem serviço de internet]</td>\n",
              "    </tr>\n",
              "    <tr>\n",
              "      <th>Backup_Online</th>\n",
              "      <td>[nan, sem serviço de internet]</td>\n",
              "    </tr>\n",
              "    <tr>\n",
              "      <th>Protecao_Dispositivo</th>\n",
              "      <td>[nan, sem serviço de internet]</td>\n",
              "    </tr>\n",
              "    <tr>\n",
              "      <th>Suporte_Tecnico</th>\n",
              "      <td>[nan, sem serviço de internet]</td>\n",
              "    </tr>\n",
              "    <tr>\n",
              "      <th>internet/streamingtv</th>\n",
              "      <td>[nan, sem serviço de internet]</td>\n",
              "    </tr>\n",
              "    <tr>\n",
              "      <th>Streaming_Filmes</th>\n",
              "      <td>[nan, sem serviço de internet]</td>\n",
              "    </tr>\n",
              "    <tr>\n",
              "      <th>Tipo_Contrato</th>\n",
              "      <td>[anual, mensal, bienal]</td>\n",
              "    </tr>\n",
              "    <tr>\n",
              "      <th>Fatura_Digital</th>\n",
              "      <td>[1, 0]</td>\n",
              "    </tr>\n",
              "    <tr>\n",
              "      <th>Forma_Pagamento</th>\n",
              "      <td>[cheque, cheque eletrônico, cartão de crédito ...</td>\n",
              "    </tr>\n",
              "    <tr>\n",
              "      <th>Valor_Mensal</th>\n",
              "      <td>[65.6, 59.9, 73.9, 98.0, 83.9, 69.4, 109.7, 84...</td>\n",
              "    </tr>\n",
              "    <tr>\n",
              "      <th>Valor_Total</th>\n",
              "      <td>[593.3, 542.4, 280.85, 1237.85, 267.4, 571.45,...</td>\n",
              "    </tr>\n",
              "  </tbody>\n",
              "</table>\n",
              "</div><br><label><b>dtype:</b> object</label>"
            ]
          },
          "metadata": {},
          "execution_count": 78
        }
      ]
    },
    {
      "cell_type": "code",
      "source": [
        "print(df.columns.tolist())"
      ],
      "metadata": {
        "colab": {
          "base_uri": "https://localhost:8080/"
        },
        "id": "DDH6EmJMrhYT",
        "outputId": "60f08f7d-c0d8-4009-9ee6-39cf68cb2f27"
      },
      "execution_count": 79,
      "outputs": [
        {
          "output_type": "stream",
          "name": "stdout",
          "text": [
            "['ID_Cliente', 'Cancelamento', 'Gênero', 'Idoso', 'Possui_Companheiro', 'Possui_Dependentes', 'Meses_de_Contrato', 'Telefone_Ativo', 'Multiplas_Linhas', 'Tipo_Internet', 'Seguranca_Online', 'Backup_Online', 'Protecao_Dispositivo', 'Suporte_Tecnico', 'internet/streamingtv', 'Streaming_Filmes', 'Tipo_Contrato', 'Fatura_Digital', 'Forma_Pagamento', 'Valor_Mensal', 'Valor_Total']\n"
          ]
        }
      ]
    },
    {
      "cell_type": "code",
      "source": [
        "colunas = [\n",
        "    \"Seguranca_Online\",\n",
        "    \"Backup_Online\",\n",
        "    \"Protecao_Dispositivo\",\n",
        "    \"Suporte_Tecnico\",\n",
        "    \"internet/streamingtv\",\n",
        "    \"Streaming_Filmes\"\n",
        "]\n",
        "df[colunas] = df[colunas].replace(\"Sem internet\", \"Não\")"
      ],
      "metadata": {
        "id": "5T3_B8rfejOq"
      },
      "execution_count": 80,
      "outputs": []
    },
    {
      "cell_type": "code",
      "source": [
        "df.apply(lambda x: x.unique())"
      ],
      "metadata": {
        "colab": {
          "base_uri": "https://localhost:8080/",
          "height": 742
        },
        "id": "z571b0jPewbn",
        "outputId": "6fb52b0d-bd36-4ad1-9f0a-d0495b33c909"
      },
      "execution_count": 81,
      "outputs": [
        {
          "output_type": "execute_result",
          "data": {
            "text/plain": [
              "ID_Cliente              [0002-orfbo, 0003-mknfe, 0004-tlhlj, 0011-igkf...\n",
              "Cancelamento                                                       [0, 1]\n",
              "Gênero                                              [feminino, masculino]\n",
              "Idoso                                                              [0, 1]\n",
              "Possui_Companheiro                                                 [1, 0]\n",
              "Possui_Dependentes                                                 [1, 0]\n",
              "Meses_de_Contrato       [9, 4, 13, 3, 71, 63, 7, 65, 54, 72, 5, 56, 34...\n",
              "Telefone_Ativo                                                     [1, 0]\n",
              "Multiplas_Linhas                            [nan, sem serviço telefônico]\n",
              "Tipo_Internet                                    [dsl, fibra óptica, nan]\n",
              "Seguranca_Online                           [nan, sem serviço de internet]\n",
              "Backup_Online                              [nan, sem serviço de internet]\n",
              "Protecao_Dispositivo                       [nan, sem serviço de internet]\n",
              "Suporte_Tecnico                            [nan, sem serviço de internet]\n",
              "internet/streamingtv                       [nan, sem serviço de internet]\n",
              "Streaming_Filmes                           [nan, sem serviço de internet]\n",
              "Tipo_Contrato                                     [anual, mensal, bienal]\n",
              "Fatura_Digital                                                     [1, 0]\n",
              "Forma_Pagamento         [cheque, cheque eletrônico, cartão de crédito ...\n",
              "Valor_Mensal            [65.6, 59.9, 73.9, 98.0, 83.9, 69.4, 109.7, 84...\n",
              "Valor_Total             [593.3, 542.4, 280.85, 1237.85, 267.4, 571.45,...\n",
              "dtype: object"
            ],
            "text/html": [
              "<div>\n",
              "<style scoped>\n",
              "    .dataframe tbody tr th:only-of-type {\n",
              "        vertical-align: middle;\n",
              "    }\n",
              "\n",
              "    .dataframe tbody tr th {\n",
              "        vertical-align: top;\n",
              "    }\n",
              "\n",
              "    .dataframe thead th {\n",
              "        text-align: right;\n",
              "    }\n",
              "</style>\n",
              "<table border=\"1\" class=\"dataframe\">\n",
              "  <thead>\n",
              "    <tr style=\"text-align: right;\">\n",
              "      <th></th>\n",
              "      <th>0</th>\n",
              "    </tr>\n",
              "  </thead>\n",
              "  <tbody>\n",
              "    <tr>\n",
              "      <th>ID_Cliente</th>\n",
              "      <td>[0002-orfbo, 0003-mknfe, 0004-tlhlj, 0011-igkf...</td>\n",
              "    </tr>\n",
              "    <tr>\n",
              "      <th>Cancelamento</th>\n",
              "      <td>[0, 1]</td>\n",
              "    </tr>\n",
              "    <tr>\n",
              "      <th>Gênero</th>\n",
              "      <td>[feminino, masculino]</td>\n",
              "    </tr>\n",
              "    <tr>\n",
              "      <th>Idoso</th>\n",
              "      <td>[0, 1]</td>\n",
              "    </tr>\n",
              "    <tr>\n",
              "      <th>Possui_Companheiro</th>\n",
              "      <td>[1, 0]</td>\n",
              "    </tr>\n",
              "    <tr>\n",
              "      <th>Possui_Dependentes</th>\n",
              "      <td>[1, 0]</td>\n",
              "    </tr>\n",
              "    <tr>\n",
              "      <th>Meses_de_Contrato</th>\n",
              "      <td>[9, 4, 13, 3, 71, 63, 7, 65, 54, 72, 5, 56, 34...</td>\n",
              "    </tr>\n",
              "    <tr>\n",
              "      <th>Telefone_Ativo</th>\n",
              "      <td>[1, 0]</td>\n",
              "    </tr>\n",
              "    <tr>\n",
              "      <th>Multiplas_Linhas</th>\n",
              "      <td>[nan, sem serviço telefônico]</td>\n",
              "    </tr>\n",
              "    <tr>\n",
              "      <th>Tipo_Internet</th>\n",
              "      <td>[dsl, fibra óptica, nan]</td>\n",
              "    </tr>\n",
              "    <tr>\n",
              "      <th>Seguranca_Online</th>\n",
              "      <td>[nan, sem serviço de internet]</td>\n",
              "    </tr>\n",
              "    <tr>\n",
              "      <th>Backup_Online</th>\n",
              "      <td>[nan, sem serviço de internet]</td>\n",
              "    </tr>\n",
              "    <tr>\n",
              "      <th>Protecao_Dispositivo</th>\n",
              "      <td>[nan, sem serviço de internet]</td>\n",
              "    </tr>\n",
              "    <tr>\n",
              "      <th>Suporte_Tecnico</th>\n",
              "      <td>[nan, sem serviço de internet]</td>\n",
              "    </tr>\n",
              "    <tr>\n",
              "      <th>internet/streamingtv</th>\n",
              "      <td>[nan, sem serviço de internet]</td>\n",
              "    </tr>\n",
              "    <tr>\n",
              "      <th>Streaming_Filmes</th>\n",
              "      <td>[nan, sem serviço de internet]</td>\n",
              "    </tr>\n",
              "    <tr>\n",
              "      <th>Tipo_Contrato</th>\n",
              "      <td>[anual, mensal, bienal]</td>\n",
              "    </tr>\n",
              "    <tr>\n",
              "      <th>Fatura_Digital</th>\n",
              "      <td>[1, 0]</td>\n",
              "    </tr>\n",
              "    <tr>\n",
              "      <th>Forma_Pagamento</th>\n",
              "      <td>[cheque, cheque eletrônico, cartão de crédito ...</td>\n",
              "    </tr>\n",
              "    <tr>\n",
              "      <th>Valor_Mensal</th>\n",
              "      <td>[65.6, 59.9, 73.9, 98.0, 83.9, 69.4, 109.7, 84...</td>\n",
              "    </tr>\n",
              "    <tr>\n",
              "      <th>Valor_Total</th>\n",
              "      <td>[593.3, 542.4, 280.85, 1237.85, 267.4, 571.45,...</td>\n",
              "    </tr>\n",
              "  </tbody>\n",
              "</table>\n",
              "</div><br><label><b>dtype:</b> object</label>"
            ]
          },
          "metadata": {},
          "execution_count": 81
        }
      ]
    },
    {
      "cell_type": "code",
      "source": [
        "colunas = [\"Multiplas_Linhas\"]\n",
        "\n",
        "df[colunas] = df[colunas].replace(\"Sem telefone\", \"Não\")"
      ],
      "metadata": {
        "id": "6M8SumWhe1sw"
      },
      "execution_count": 82,
      "outputs": []
    },
    {
      "cell_type": "code",
      "source": [
        "print(df.columns.tolist())"
      ],
      "metadata": {
        "colab": {
          "base_uri": "https://localhost:8080/"
        },
        "id": "D_OhXRjVsEV6",
        "outputId": "4b43ff95-4104-48ce-ceae-1d6da3cbdf92"
      },
      "execution_count": 83,
      "outputs": [
        {
          "output_type": "stream",
          "name": "stdout",
          "text": [
            "['ID_Cliente', 'Cancelamento', 'Gênero', 'Idoso', 'Possui_Companheiro', 'Possui_Dependentes', 'Meses_de_Contrato', 'Telefone_Ativo', 'Multiplas_Linhas', 'Tipo_Internet', 'Seguranca_Online', 'Backup_Online', 'Protecao_Dispositivo', 'Suporte_Tecnico', 'internet/streamingtv', 'Streaming_Filmes', 'Tipo_Contrato', 'Fatura_Digital', 'Forma_Pagamento', 'Valor_Mensal', 'Valor_Total']\n"
          ]
        }
      ]
    },
    {
      "cell_type": "code",
      "source": [
        "df_clean = df.copy()\n",
        "\n",
        "categorical_cols = [\n",
        "      'Cancelamento', 'Gênero', 'Possui_Companheiro',\n",
        "      'Possui_Dependentes', 'Telefone_Ativo',\n",
        "      'Multiplas_Linhas', 'Tipo_Internet', 'Seguranca_Online',\n",
        "      'Backup_Online', 'Protecao_Dispositivo', 'Suporte_Tecnico',\n",
        "      'internet/streamingtv', 'Streaming_Filmes', 'Tipo_Contrato', 'Fatura_Digital',\n",
        "      'Forma_Pagamento'\n",
        "]\n",
        "\n",
        "df_encoded = pd.get_dummies(df, columns=categorical_cols, drop_first=True)\n",
        "\n",
        "df_encoded"
      ],
      "metadata": {
        "colab": {
          "base_uri": "https://localhost:8080/",
          "height": 461
        },
        "id": "z1IDBmZwfAqB",
        "outputId": "87cbaf97-fd46-4410-946b-72a6022111f9"
      },
      "execution_count": 84,
      "outputs": [
        {
          "output_type": "execute_result",
          "data": {
            "text/plain": [
              "      ID_Cliente  Idoso  Meses_de_Contrato  Valor_Mensal  Valor_Total  \\\n",
              "0     0002-orfbo      0                  9         65.60       593.30   \n",
              "1     0003-mknfe      0                  9         59.90       542.40   \n",
              "2     0004-tlhlj      0                  4         73.90       280.85   \n",
              "3     0011-igkff      1                 13         98.00      1237.85   \n",
              "4     0013-exchz      1                  3         83.90       267.40   \n",
              "...          ...    ...                ...           ...          ...   \n",
              "7038  9987-lutyd      0                 13         55.15       742.90   \n",
              "7039  9992-rramn      0                 22         85.10      1873.70   \n",
              "7040  9992-ujoel      0                  2         50.30        92.75   \n",
              "7041  9993-lhieb      0                 67         67.85      4627.65   \n",
              "7042  9995-hotoh      0                 63         59.00      3707.60   \n",
              "\n",
              "      Cancelamento_1  Gênero_masculino  Possui_Companheiro_1  \\\n",
              "0              False             False                  True   \n",
              "1              False              True                 False   \n",
              "2               True              True                 False   \n",
              "3               True              True                  True   \n",
              "4               True             False                  True   \n",
              "...              ...               ...                   ...   \n",
              "7038           False             False                 False   \n",
              "7039            True              True                  True   \n",
              "7040           False              True                 False   \n",
              "7041           False              True                  True   \n",
              "7042           False              True                  True   \n",
              "\n",
              "      Possui_Dependentes_1  Telefone_Ativo_1  Tipo_Internet_fibra óptica  \\\n",
              "0                     True              True                       False   \n",
              "1                    False              True                       False   \n",
              "2                    False              True                        True   \n",
              "3                    False              True                        True   \n",
              "4                    False              True                        True   \n",
              "...                    ...               ...                         ...   \n",
              "7038                 False              True                       False   \n",
              "7039                 False              True                        True   \n",
              "7040                 False              True                       False   \n",
              "7041                  True              True                       False   \n",
              "7042                  True             False                       False   \n",
              "\n",
              "      Tipo_Contrato_bienal  Tipo_Contrato_mensal  Fatura_Digital_1  \\\n",
              "0                    False                 False              True   \n",
              "1                    False                  True             False   \n",
              "2                    False                  True              True   \n",
              "3                    False                  True              True   \n",
              "4                    False                  True              True   \n",
              "...                    ...                   ...               ...   \n",
              "7038                 False                 False             False   \n",
              "7039                 False                  True              True   \n",
              "7040                 False                  True              True   \n",
              "7041                  True                 False             False   \n",
              "7042                  True                 False             False   \n",
              "\n",
              "      Forma_Pagamento_cheque  Forma_Pagamento_cheque eletrônico  \\\n",
              "0                       True                              False   \n",
              "1                       True                              False   \n",
              "2                      False                               True   \n",
              "3                      False                               True   \n",
              "4                       True                              False   \n",
              "...                      ...                                ...   \n",
              "7038                    True                              False   \n",
              "7039                   False                               True   \n",
              "7040                    True                              False   \n",
              "7041                    True                              False   \n",
              "7042                   False                               True   \n",
              "\n",
              "      Forma_Pagamento_transferência bancária automática  \n",
              "0                                                 False  \n",
              "1                                                 False  \n",
              "2                                                 False  \n",
              "3                                                 False  \n",
              "4                                                 False  \n",
              "...                                                 ...  \n",
              "7038                                              False  \n",
              "7039                                              False  \n",
              "7040                                              False  \n",
              "7041                                              False  \n",
              "7042                                              False  \n",
              "\n",
              "[7043 rows x 17 columns]"
            ],
            "text/html": [
              "\n",
              "  <div id=\"df-5df00cd8-3f79-49f9-9915-58e0e6b6f099\" class=\"colab-df-container\">\n",
              "    <div>\n",
              "<style scoped>\n",
              "    .dataframe tbody tr th:only-of-type {\n",
              "        vertical-align: middle;\n",
              "    }\n",
              "\n",
              "    .dataframe tbody tr th {\n",
              "        vertical-align: top;\n",
              "    }\n",
              "\n",
              "    .dataframe thead th {\n",
              "        text-align: right;\n",
              "    }\n",
              "</style>\n",
              "<table border=\"1\" class=\"dataframe\">\n",
              "  <thead>\n",
              "    <tr style=\"text-align: right;\">\n",
              "      <th></th>\n",
              "      <th>ID_Cliente</th>\n",
              "      <th>Idoso</th>\n",
              "      <th>Meses_de_Contrato</th>\n",
              "      <th>Valor_Mensal</th>\n",
              "      <th>Valor_Total</th>\n",
              "      <th>Cancelamento_1</th>\n",
              "      <th>Gênero_masculino</th>\n",
              "      <th>Possui_Companheiro_1</th>\n",
              "      <th>Possui_Dependentes_1</th>\n",
              "      <th>Telefone_Ativo_1</th>\n",
              "      <th>Tipo_Internet_fibra óptica</th>\n",
              "      <th>Tipo_Contrato_bienal</th>\n",
              "      <th>Tipo_Contrato_mensal</th>\n",
              "      <th>Fatura_Digital_1</th>\n",
              "      <th>Forma_Pagamento_cheque</th>\n",
              "      <th>Forma_Pagamento_cheque eletrônico</th>\n",
              "      <th>Forma_Pagamento_transferência bancária automática</th>\n",
              "    </tr>\n",
              "  </thead>\n",
              "  <tbody>\n",
              "    <tr>\n",
              "      <th>0</th>\n",
              "      <td>0002-orfbo</td>\n",
              "      <td>0</td>\n",
              "      <td>9</td>\n",
              "      <td>65.60</td>\n",
              "      <td>593.30</td>\n",
              "      <td>False</td>\n",
              "      <td>False</td>\n",
              "      <td>True</td>\n",
              "      <td>True</td>\n",
              "      <td>True</td>\n",
              "      <td>False</td>\n",
              "      <td>False</td>\n",
              "      <td>False</td>\n",
              "      <td>True</td>\n",
              "      <td>True</td>\n",
              "      <td>False</td>\n",
              "      <td>False</td>\n",
              "    </tr>\n",
              "    <tr>\n",
              "      <th>1</th>\n",
              "      <td>0003-mknfe</td>\n",
              "      <td>0</td>\n",
              "      <td>9</td>\n",
              "      <td>59.90</td>\n",
              "      <td>542.40</td>\n",
              "      <td>False</td>\n",
              "      <td>True</td>\n",
              "      <td>False</td>\n",
              "      <td>False</td>\n",
              "      <td>True</td>\n",
              "      <td>False</td>\n",
              "      <td>False</td>\n",
              "      <td>True</td>\n",
              "      <td>False</td>\n",
              "      <td>True</td>\n",
              "      <td>False</td>\n",
              "      <td>False</td>\n",
              "    </tr>\n",
              "    <tr>\n",
              "      <th>2</th>\n",
              "      <td>0004-tlhlj</td>\n",
              "      <td>0</td>\n",
              "      <td>4</td>\n",
              "      <td>73.90</td>\n",
              "      <td>280.85</td>\n",
              "      <td>True</td>\n",
              "      <td>True</td>\n",
              "      <td>False</td>\n",
              "      <td>False</td>\n",
              "      <td>True</td>\n",
              "      <td>True</td>\n",
              "      <td>False</td>\n",
              "      <td>True</td>\n",
              "      <td>True</td>\n",
              "      <td>False</td>\n",
              "      <td>True</td>\n",
              "      <td>False</td>\n",
              "    </tr>\n",
              "    <tr>\n",
              "      <th>3</th>\n",
              "      <td>0011-igkff</td>\n",
              "      <td>1</td>\n",
              "      <td>13</td>\n",
              "      <td>98.00</td>\n",
              "      <td>1237.85</td>\n",
              "      <td>True</td>\n",
              "      <td>True</td>\n",
              "      <td>True</td>\n",
              "      <td>False</td>\n",
              "      <td>True</td>\n",
              "      <td>True</td>\n",
              "      <td>False</td>\n",
              "      <td>True</td>\n",
              "      <td>True</td>\n",
              "      <td>False</td>\n",
              "      <td>True</td>\n",
              "      <td>False</td>\n",
              "    </tr>\n",
              "    <tr>\n",
              "      <th>4</th>\n",
              "      <td>0013-exchz</td>\n",
              "      <td>1</td>\n",
              "      <td>3</td>\n",
              "      <td>83.90</td>\n",
              "      <td>267.40</td>\n",
              "      <td>True</td>\n",
              "      <td>False</td>\n",
              "      <td>True</td>\n",
              "      <td>False</td>\n",
              "      <td>True</td>\n",
              "      <td>True</td>\n",
              "      <td>False</td>\n",
              "      <td>True</td>\n",
              "      <td>True</td>\n",
              "      <td>True</td>\n",
              "      <td>False</td>\n",
              "      <td>False</td>\n",
              "    </tr>\n",
              "    <tr>\n",
              "      <th>...</th>\n",
              "      <td>...</td>\n",
              "      <td>...</td>\n",
              "      <td>...</td>\n",
              "      <td>...</td>\n",
              "      <td>...</td>\n",
              "      <td>...</td>\n",
              "      <td>...</td>\n",
              "      <td>...</td>\n",
              "      <td>...</td>\n",
              "      <td>...</td>\n",
              "      <td>...</td>\n",
              "      <td>...</td>\n",
              "      <td>...</td>\n",
              "      <td>...</td>\n",
              "      <td>...</td>\n",
              "      <td>...</td>\n",
              "      <td>...</td>\n",
              "    </tr>\n",
              "    <tr>\n",
              "      <th>7038</th>\n",
              "      <td>9987-lutyd</td>\n",
              "      <td>0</td>\n",
              "      <td>13</td>\n",
              "      <td>55.15</td>\n",
              "      <td>742.90</td>\n",
              "      <td>False</td>\n",
              "      <td>False</td>\n",
              "      <td>False</td>\n",
              "      <td>False</td>\n",
              "      <td>True</td>\n",
              "      <td>False</td>\n",
              "      <td>False</td>\n",
              "      <td>False</td>\n",
              "      <td>False</td>\n",
              "      <td>True</td>\n",
              "      <td>False</td>\n",
              "      <td>False</td>\n",
              "    </tr>\n",
              "    <tr>\n",
              "      <th>7039</th>\n",
              "      <td>9992-rramn</td>\n",
              "      <td>0</td>\n",
              "      <td>22</td>\n",
              "      <td>85.10</td>\n",
              "      <td>1873.70</td>\n",
              "      <td>True</td>\n",
              "      <td>True</td>\n",
              "      <td>True</td>\n",
              "      <td>False</td>\n",
              "      <td>True</td>\n",
              "      <td>True</td>\n",
              "      <td>False</td>\n",
              "      <td>True</td>\n",
              "      <td>True</td>\n",
              "      <td>False</td>\n",
              "      <td>True</td>\n",
              "      <td>False</td>\n",
              "    </tr>\n",
              "    <tr>\n",
              "      <th>7040</th>\n",
              "      <td>9992-ujoel</td>\n",
              "      <td>0</td>\n",
              "      <td>2</td>\n",
              "      <td>50.30</td>\n",
              "      <td>92.75</td>\n",
              "      <td>False</td>\n",
              "      <td>True</td>\n",
              "      <td>False</td>\n",
              "      <td>False</td>\n",
              "      <td>True</td>\n",
              "      <td>False</td>\n",
              "      <td>False</td>\n",
              "      <td>True</td>\n",
              "      <td>True</td>\n",
              "      <td>True</td>\n",
              "      <td>False</td>\n",
              "      <td>False</td>\n",
              "    </tr>\n",
              "    <tr>\n",
              "      <th>7041</th>\n",
              "      <td>9993-lhieb</td>\n",
              "      <td>0</td>\n",
              "      <td>67</td>\n",
              "      <td>67.85</td>\n",
              "      <td>4627.65</td>\n",
              "      <td>False</td>\n",
              "      <td>True</td>\n",
              "      <td>True</td>\n",
              "      <td>True</td>\n",
              "      <td>True</td>\n",
              "      <td>False</td>\n",
              "      <td>True</td>\n",
              "      <td>False</td>\n",
              "      <td>False</td>\n",
              "      <td>True</td>\n",
              "      <td>False</td>\n",
              "      <td>False</td>\n",
              "    </tr>\n",
              "    <tr>\n",
              "      <th>7042</th>\n",
              "      <td>9995-hotoh</td>\n",
              "      <td>0</td>\n",
              "      <td>63</td>\n",
              "      <td>59.00</td>\n",
              "      <td>3707.60</td>\n",
              "      <td>False</td>\n",
              "      <td>True</td>\n",
              "      <td>True</td>\n",
              "      <td>True</td>\n",
              "      <td>False</td>\n",
              "      <td>False</td>\n",
              "      <td>True</td>\n",
              "      <td>False</td>\n",
              "      <td>False</td>\n",
              "      <td>False</td>\n",
              "      <td>True</td>\n",
              "      <td>False</td>\n",
              "    </tr>\n",
              "  </tbody>\n",
              "</table>\n",
              "<p>7043 rows × 17 columns</p>\n",
              "</div>\n",
              "    <div class=\"colab-df-buttons\">\n",
              "\n",
              "  <div class=\"colab-df-container\">\n",
              "    <button class=\"colab-df-convert\" onclick=\"convertToInteractive('df-5df00cd8-3f79-49f9-9915-58e0e6b6f099')\"\n",
              "            title=\"Convert this dataframe to an interactive table.\"\n",
              "            style=\"display:none;\">\n",
              "\n",
              "  <svg xmlns=\"http://www.w3.org/2000/svg\" height=\"24px\" viewBox=\"0 -960 960 960\">\n",
              "    <path d=\"M120-120v-720h720v720H120Zm60-500h600v-160H180v160Zm220 220h160v-160H400v160Zm0 220h160v-160H400v160ZM180-400h160v-160H180v160Zm440 0h160v-160H620v160ZM180-180h160v-160H180v160Zm440 0h160v-160H620v160Z\"/>\n",
              "  </svg>\n",
              "    </button>\n",
              "\n",
              "  <style>\n",
              "    .colab-df-container {\n",
              "      display:flex;\n",
              "      gap: 12px;\n",
              "    }\n",
              "\n",
              "    .colab-df-convert {\n",
              "      background-color: #E8F0FE;\n",
              "      border: none;\n",
              "      border-radius: 50%;\n",
              "      cursor: pointer;\n",
              "      display: none;\n",
              "      fill: #1967D2;\n",
              "      height: 32px;\n",
              "      padding: 0 0 0 0;\n",
              "      width: 32px;\n",
              "    }\n",
              "\n",
              "    .colab-df-convert:hover {\n",
              "      background-color: #E2EBFA;\n",
              "      box-shadow: 0px 1px 2px rgba(60, 64, 67, 0.3), 0px 1px 3px 1px rgba(60, 64, 67, 0.15);\n",
              "      fill: #174EA6;\n",
              "    }\n",
              "\n",
              "    .colab-df-buttons div {\n",
              "      margin-bottom: 4px;\n",
              "    }\n",
              "\n",
              "    [theme=dark] .colab-df-convert {\n",
              "      background-color: #3B4455;\n",
              "      fill: #D2E3FC;\n",
              "    }\n",
              "\n",
              "    [theme=dark] .colab-df-convert:hover {\n",
              "      background-color: #434B5C;\n",
              "      box-shadow: 0px 1px 3px 1px rgba(0, 0, 0, 0.15);\n",
              "      filter: drop-shadow(0px 1px 2px rgba(0, 0, 0, 0.3));\n",
              "      fill: #FFFFFF;\n",
              "    }\n",
              "  </style>\n",
              "\n",
              "    <script>\n",
              "      const buttonEl =\n",
              "        document.querySelector('#df-5df00cd8-3f79-49f9-9915-58e0e6b6f099 button.colab-df-convert');\n",
              "      buttonEl.style.display =\n",
              "        google.colab.kernel.accessAllowed ? 'block' : 'none';\n",
              "\n",
              "      async function convertToInteractive(key) {\n",
              "        const element = document.querySelector('#df-5df00cd8-3f79-49f9-9915-58e0e6b6f099');\n",
              "        const dataTable =\n",
              "          await google.colab.kernel.invokeFunction('convertToInteractive',\n",
              "                                                    [key], {});\n",
              "        if (!dataTable) return;\n",
              "\n",
              "        const docLinkHtml = 'Like what you see? Visit the ' +\n",
              "          '<a target=\"_blank\" href=https://colab.research.google.com/notebooks/data_table.ipynb>data table notebook</a>'\n",
              "          + ' to learn more about interactive tables.';\n",
              "        element.innerHTML = '';\n",
              "        dataTable['output_type'] = 'display_data';\n",
              "        await google.colab.output.renderOutput(dataTable, element);\n",
              "        const docLink = document.createElement('div');\n",
              "        docLink.innerHTML = docLinkHtml;\n",
              "        element.appendChild(docLink);\n",
              "      }\n",
              "    </script>\n",
              "  </div>\n",
              "\n",
              "\n",
              "    <div id=\"df-9b6b1af9-0520-4064-81ea-8285b691e98e\">\n",
              "      <button class=\"colab-df-quickchart\" onclick=\"quickchart('df-9b6b1af9-0520-4064-81ea-8285b691e98e')\"\n",
              "                title=\"Suggest charts\"\n",
              "                style=\"display:none;\">\n",
              "\n",
              "<svg xmlns=\"http://www.w3.org/2000/svg\" height=\"24px\"viewBox=\"0 0 24 24\"\n",
              "     width=\"24px\">\n",
              "    <g>\n",
              "        <path d=\"M19 3H5c-1.1 0-2 .9-2 2v14c0 1.1.9 2 2 2h14c1.1 0 2-.9 2-2V5c0-1.1-.9-2-2-2zM9 17H7v-7h2v7zm4 0h-2V7h2v10zm4 0h-2v-4h2v4z\"/>\n",
              "    </g>\n",
              "</svg>\n",
              "      </button>\n",
              "\n",
              "<style>\n",
              "  .colab-df-quickchart {\n",
              "      --bg-color: #E8F0FE;\n",
              "      --fill-color: #1967D2;\n",
              "      --hover-bg-color: #E2EBFA;\n",
              "      --hover-fill-color: #174EA6;\n",
              "      --disabled-fill-color: #AAA;\n",
              "      --disabled-bg-color: #DDD;\n",
              "  }\n",
              "\n",
              "  [theme=dark] .colab-df-quickchart {\n",
              "      --bg-color: #3B4455;\n",
              "      --fill-color: #D2E3FC;\n",
              "      --hover-bg-color: #434B5C;\n",
              "      --hover-fill-color: #FFFFFF;\n",
              "      --disabled-bg-color: #3B4455;\n",
              "      --disabled-fill-color: #666;\n",
              "  }\n",
              "\n",
              "  .colab-df-quickchart {\n",
              "    background-color: var(--bg-color);\n",
              "    border: none;\n",
              "    border-radius: 50%;\n",
              "    cursor: pointer;\n",
              "    display: none;\n",
              "    fill: var(--fill-color);\n",
              "    height: 32px;\n",
              "    padding: 0;\n",
              "    width: 32px;\n",
              "  }\n",
              "\n",
              "  .colab-df-quickchart:hover {\n",
              "    background-color: var(--hover-bg-color);\n",
              "    box-shadow: 0 1px 2px rgba(60, 64, 67, 0.3), 0 1px 3px 1px rgba(60, 64, 67, 0.15);\n",
              "    fill: var(--button-hover-fill-color);\n",
              "  }\n",
              "\n",
              "  .colab-df-quickchart-complete:disabled,\n",
              "  .colab-df-quickchart-complete:disabled:hover {\n",
              "    background-color: var(--disabled-bg-color);\n",
              "    fill: var(--disabled-fill-color);\n",
              "    box-shadow: none;\n",
              "  }\n",
              "\n",
              "  .colab-df-spinner {\n",
              "    border: 2px solid var(--fill-color);\n",
              "    border-color: transparent;\n",
              "    border-bottom-color: var(--fill-color);\n",
              "    animation:\n",
              "      spin 1s steps(1) infinite;\n",
              "  }\n",
              "\n",
              "  @keyframes spin {\n",
              "    0% {\n",
              "      border-color: transparent;\n",
              "      border-bottom-color: var(--fill-color);\n",
              "      border-left-color: var(--fill-color);\n",
              "    }\n",
              "    20% {\n",
              "      border-color: transparent;\n",
              "      border-left-color: var(--fill-color);\n",
              "      border-top-color: var(--fill-color);\n",
              "    }\n",
              "    30% {\n",
              "      border-color: transparent;\n",
              "      border-left-color: var(--fill-color);\n",
              "      border-top-color: var(--fill-color);\n",
              "      border-right-color: var(--fill-color);\n",
              "    }\n",
              "    40% {\n",
              "      border-color: transparent;\n",
              "      border-right-color: var(--fill-color);\n",
              "      border-top-color: var(--fill-color);\n",
              "    }\n",
              "    60% {\n",
              "      border-color: transparent;\n",
              "      border-right-color: var(--fill-color);\n",
              "    }\n",
              "    80% {\n",
              "      border-color: transparent;\n",
              "      border-right-color: var(--fill-color);\n",
              "      border-bottom-color: var(--fill-color);\n",
              "    }\n",
              "    90% {\n",
              "      border-color: transparent;\n",
              "      border-bottom-color: var(--fill-color);\n",
              "    }\n",
              "  }\n",
              "</style>\n",
              "\n",
              "      <script>\n",
              "        async function quickchart(key) {\n",
              "          const quickchartButtonEl =\n",
              "            document.querySelector('#' + key + ' button');\n",
              "          quickchartButtonEl.disabled = true;  // To prevent multiple clicks.\n",
              "          quickchartButtonEl.classList.add('colab-df-spinner');\n",
              "          try {\n",
              "            const charts = await google.colab.kernel.invokeFunction(\n",
              "                'suggestCharts', [key], {});\n",
              "          } catch (error) {\n",
              "            console.error('Error during call to suggestCharts:', error);\n",
              "          }\n",
              "          quickchartButtonEl.classList.remove('colab-df-spinner');\n",
              "          quickchartButtonEl.classList.add('colab-df-quickchart-complete');\n",
              "        }\n",
              "        (() => {\n",
              "          let quickchartButtonEl =\n",
              "            document.querySelector('#df-9b6b1af9-0520-4064-81ea-8285b691e98e button');\n",
              "          quickchartButtonEl.style.display =\n",
              "            google.colab.kernel.accessAllowed ? 'block' : 'none';\n",
              "        })();\n",
              "      </script>\n",
              "    </div>\n",
              "\n",
              "  <div id=\"id_619ba505-58a0-46cc-aeab-da2a61ab66fc\">\n",
              "    <style>\n",
              "      .colab-df-generate {\n",
              "        background-color: #E8F0FE;\n",
              "        border: none;\n",
              "        border-radius: 50%;\n",
              "        cursor: pointer;\n",
              "        display: none;\n",
              "        fill: #1967D2;\n",
              "        height: 32px;\n",
              "        padding: 0 0 0 0;\n",
              "        width: 32px;\n",
              "      }\n",
              "\n",
              "      .colab-df-generate:hover {\n",
              "        background-color: #E2EBFA;\n",
              "        box-shadow: 0px 1px 2px rgba(60, 64, 67, 0.3), 0px 1px 3px 1px rgba(60, 64, 67, 0.15);\n",
              "        fill: #174EA6;\n",
              "      }\n",
              "\n",
              "      [theme=dark] .colab-df-generate {\n",
              "        background-color: #3B4455;\n",
              "        fill: #D2E3FC;\n",
              "      }\n",
              "\n",
              "      [theme=dark] .colab-df-generate:hover {\n",
              "        background-color: #434B5C;\n",
              "        box-shadow: 0px 1px 3px 1px rgba(0, 0, 0, 0.15);\n",
              "        filter: drop-shadow(0px 1px 2px rgba(0, 0, 0, 0.3));\n",
              "        fill: #FFFFFF;\n",
              "      }\n",
              "    </style>\n",
              "    <button class=\"colab-df-generate\" onclick=\"generateWithVariable('df_encoded')\"\n",
              "            title=\"Generate code using this dataframe.\"\n",
              "            style=\"display:none;\">\n",
              "\n",
              "  <svg xmlns=\"http://www.w3.org/2000/svg\" height=\"24px\"viewBox=\"0 0 24 24\"\n",
              "       width=\"24px\">\n",
              "    <path d=\"M7,19H8.4L18.45,9,17,7.55,7,17.6ZM5,21V16.75L18.45,3.32a2,2,0,0,1,2.83,0l1.4,1.43a1.91,1.91,0,0,1,.58,1.4,1.91,1.91,0,0,1-.58,1.4L9.25,21ZM18.45,9,17,7.55Zm-12,3A5.31,5.31,0,0,0,4.9,8.1,5.31,5.31,0,0,0,1,6.5,5.31,5.31,0,0,0,4.9,4.9,5.31,5.31,0,0,0,6.5,1,5.31,5.31,0,0,0,8.1,4.9,5.31,5.31,0,0,0,12,6.5,5.46,5.46,0,0,0,6.5,12Z\"/>\n",
              "  </svg>\n",
              "    </button>\n",
              "    <script>\n",
              "      (() => {\n",
              "      const buttonEl =\n",
              "        document.querySelector('#id_619ba505-58a0-46cc-aeab-da2a61ab66fc button.colab-df-generate');\n",
              "      buttonEl.style.display =\n",
              "        google.colab.kernel.accessAllowed ? 'block' : 'none';\n",
              "\n",
              "      buttonEl.onclick = () => {\n",
              "        google.colab.notebook.generateWithVariable('df_encoded');\n",
              "      }\n",
              "      })();\n",
              "    </script>\n",
              "  </div>\n",
              "\n",
              "    </div>\n",
              "  </div>\n"
            ],
            "application/vnd.google.colaboratory.intrinsic+json": {
              "type": "dataframe",
              "variable_name": "df_encoded",
              "summary": "{\n  \"name\": \"df_encoded\",\n  \"rows\": 7043,\n  \"fields\": [\n    {\n      \"column\": \"ID_Cliente\",\n      \"properties\": {\n        \"dtype\": \"string\",\n        \"num_unique_values\": 7043,\n        \"samples\": [\n          \"0301-kobtq\",\n          \"3865-yiott\",\n          \"5377-ndtou\"\n        ],\n        \"semantic_type\": \"\",\n        \"description\": \"\"\n      }\n    },\n    {\n      \"column\": \"Idoso\",\n      \"properties\": {\n        \"dtype\": \"number\",\n        \"std\": 0,\n        \"min\": 0,\n        \"max\": 1,\n        \"num_unique_values\": 2,\n        \"samples\": [\n          1,\n          0\n        ],\n        \"semantic_type\": \"\",\n        \"description\": \"\"\n      }\n    },\n    {\n      \"column\": \"Meses_de_Contrato\",\n      \"properties\": {\n        \"dtype\": \"number\",\n        \"std\": 24,\n        \"min\": 0,\n        \"max\": 72,\n        \"num_unique_values\": 73,\n        \"samples\": [\n          71,\n          53\n        ],\n        \"semantic_type\": \"\",\n        \"description\": \"\"\n      }\n    },\n    {\n      \"column\": \"Valor_Mensal\",\n      \"properties\": {\n        \"dtype\": \"number\",\n        \"std\": 30.09004709767855,\n        \"min\": 18.25,\n        \"max\": 118.75,\n        \"num_unique_values\": 1585,\n        \"samples\": [\n          104.15,\n          47.85\n        ],\n        \"semantic_type\": \"\",\n        \"description\": \"\"\n      }\n    },\n    {\n      \"column\": \"Valor_Total\",\n      \"properties\": {\n        \"dtype\": \"number\",\n        \"std\": 2266.771361883145,\n        \"min\": 18.8,\n        \"max\": 8684.8,\n        \"num_unique_values\": 6530,\n        \"samples\": [\n          2341.55,\n          5329.55\n        ],\n        \"semantic_type\": \"\",\n        \"description\": \"\"\n      }\n    },\n    {\n      \"column\": \"Cancelamento_1\",\n      \"properties\": {\n        \"dtype\": \"boolean\",\n        \"num_unique_values\": 2,\n        \"samples\": [\n          true,\n          false\n        ],\n        \"semantic_type\": \"\",\n        \"description\": \"\"\n      }\n    },\n    {\n      \"column\": \"G\\u00eanero_masculino\",\n      \"properties\": {\n        \"dtype\": \"boolean\",\n        \"num_unique_values\": 2,\n        \"samples\": [\n          true,\n          false\n        ],\n        \"semantic_type\": \"\",\n        \"description\": \"\"\n      }\n    },\n    {\n      \"column\": \"Possui_Companheiro_1\",\n      \"properties\": {\n        \"dtype\": \"boolean\",\n        \"num_unique_values\": 2,\n        \"samples\": [\n          false,\n          true\n        ],\n        \"semantic_type\": \"\",\n        \"description\": \"\"\n      }\n    },\n    {\n      \"column\": \"Possui_Dependentes_1\",\n      \"properties\": {\n        \"dtype\": \"boolean\",\n        \"num_unique_values\": 2,\n        \"samples\": [\n          false,\n          true\n        ],\n        \"semantic_type\": \"\",\n        \"description\": \"\"\n      }\n    },\n    {\n      \"column\": \"Telefone_Ativo_1\",\n      \"properties\": {\n        \"dtype\": \"boolean\",\n        \"num_unique_values\": 2,\n        \"samples\": [\n          false,\n          true\n        ],\n        \"semantic_type\": \"\",\n        \"description\": \"\"\n      }\n    },\n    {\n      \"column\": \"Tipo_Internet_fibra \\u00f3ptica\",\n      \"properties\": {\n        \"dtype\": \"boolean\",\n        \"num_unique_values\": 2,\n        \"samples\": [\n          true,\n          false\n        ],\n        \"semantic_type\": \"\",\n        \"description\": \"\"\n      }\n    },\n    {\n      \"column\": \"Tipo_Contrato_bienal\",\n      \"properties\": {\n        \"dtype\": \"boolean\",\n        \"num_unique_values\": 2,\n        \"samples\": [\n          true,\n          false\n        ],\n        \"semantic_type\": \"\",\n        \"description\": \"\"\n      }\n    },\n    {\n      \"column\": \"Tipo_Contrato_mensal\",\n      \"properties\": {\n        \"dtype\": \"boolean\",\n        \"num_unique_values\": 2,\n        \"samples\": [\n          true,\n          false\n        ],\n        \"semantic_type\": \"\",\n        \"description\": \"\"\n      }\n    },\n    {\n      \"column\": \"Fatura_Digital_1\",\n      \"properties\": {\n        \"dtype\": \"boolean\",\n        \"num_unique_values\": 2,\n        \"samples\": [\n          false,\n          true\n        ],\n        \"semantic_type\": \"\",\n        \"description\": \"\"\n      }\n    },\n    {\n      \"column\": \"Forma_Pagamento_cheque\",\n      \"properties\": {\n        \"dtype\": \"boolean\",\n        \"num_unique_values\": 2,\n        \"samples\": [\n          false,\n          true\n        ],\n        \"semantic_type\": \"\",\n        \"description\": \"\"\n      }\n    },\n    {\n      \"column\": \"Forma_Pagamento_cheque eletr\\u00f4nico\",\n      \"properties\": {\n        \"dtype\": \"boolean\",\n        \"num_unique_values\": 2,\n        \"samples\": [\n          true,\n          false\n        ],\n        \"semantic_type\": \"\",\n        \"description\": \"\"\n      }\n    },\n    {\n      \"column\": \"Forma_Pagamento_transfer\\u00eancia banc\\u00e1ria autom\\u00e1tica\",\n      \"properties\": {\n        \"dtype\": \"boolean\",\n        \"num_unique_values\": 2,\n        \"samples\": [\n          true,\n          false\n        ],\n        \"semantic_type\": \"\",\n        \"description\": \"\"\n      }\n    }\n  ]\n}"
            }
          },
          "metadata": {},
          "execution_count": 84
        }
      ]
    },
    {
      "cell_type": "code",
      "source": [
        "df_encoded.info()"
      ],
      "metadata": {
        "colab": {
          "base_uri": "https://localhost:8080/"
        },
        "id": "v1ka_ni5fEw3",
        "outputId": "ca4f3dbc-16e6-4146-915c-11409626832a"
      },
      "execution_count": 85,
      "outputs": [
        {
          "output_type": "stream",
          "name": "stdout",
          "text": [
            "<class 'pandas.core.frame.DataFrame'>\n",
            "RangeIndex: 7043 entries, 0 to 7042\n",
            "Data columns (total 17 columns):\n",
            " #   Column                                             Non-Null Count  Dtype  \n",
            "---  ------                                             --------------  -----  \n",
            " 0   ID_Cliente                                         7043 non-null   object \n",
            " 1   Idoso                                              7043 non-null   int64  \n",
            " 2   Meses_de_Contrato                                  7043 non-null   int64  \n",
            " 3   Valor_Mensal                                       7043 non-null   float64\n",
            " 4   Valor_Total                                        7032 non-null   float64\n",
            " 5   Cancelamento_1                                     7043 non-null   bool   \n",
            " 6   Gênero_masculino                                   7043 non-null   bool   \n",
            " 7   Possui_Companheiro_1                               7043 non-null   bool   \n",
            " 8   Possui_Dependentes_1                               7043 non-null   bool   \n",
            " 9   Telefone_Ativo_1                                   7043 non-null   bool   \n",
            " 10  Tipo_Internet_fibra óptica                         7043 non-null   bool   \n",
            " 11  Tipo_Contrato_bienal                               7043 non-null   bool   \n",
            " 12  Tipo_Contrato_mensal                               7043 non-null   bool   \n",
            " 13  Fatura_Digital_1                                   7043 non-null   bool   \n",
            " 14  Forma_Pagamento_cheque                             7043 non-null   bool   \n",
            " 15  Forma_Pagamento_cheque eletrônico                  7043 non-null   bool   \n",
            " 16  Forma_Pagamento_transferência bancária automática  7043 non-null   bool   \n",
            "dtypes: bool(12), float64(2), int64(2), object(1)\n",
            "memory usage: 357.8+ KB\n"
          ]
        }
      ]
    },
    {
      "cell_type": "code",
      "source": [
        "from IPython.display import display, HTML"
      ],
      "metadata": {
        "id": "ykNGnq4WDhBQ"
      },
      "execution_count": 86,
      "outputs": []
    },
    {
      "cell_type": "code",
      "source": [
        "for col in df_encoded.select_dtypes(include='object').columns:\n",
        "    titulo = f\"➡️  {col.upper()}\"\n",
        "    display(HTML(titulo))\n",
        "    display(df_encoded[col].value_counts(dropna=False).head(3).to_frame(name='Frequência'))\n",
        "    print(\"-\" * 35)"
      ],
      "metadata": {
        "colab": {
          "base_uri": "https://localhost:8080/",
          "height": 209
        },
        "id": "Xif1LtmRCOyJ",
        "outputId": "ac5eba62-2d18-4be3-ad3d-ef7b9aa3d995"
      },
      "execution_count": 87,
      "outputs": [
        {
          "output_type": "display_data",
          "data": {
            "text/plain": [
              "<IPython.core.display.HTML object>"
            ],
            "text/html": [
              "➡️  ID_CLIENTE"
            ]
          },
          "metadata": {}
        },
        {
          "output_type": "display_data",
          "data": {
            "text/plain": [
              "            Frequência\n",
              "ID_Cliente            \n",
              "9995-hotoh           1\n",
              "0002-orfbo           1\n",
              "0003-mknfe           1"
            ],
            "text/html": [
              "\n",
              "  <div id=\"df-fc3700c0-fea2-4529-9b2a-4f14a100b58a\" class=\"colab-df-container\">\n",
              "    <div>\n",
              "<style scoped>\n",
              "    .dataframe tbody tr th:only-of-type {\n",
              "        vertical-align: middle;\n",
              "    }\n",
              "\n",
              "    .dataframe tbody tr th {\n",
              "        vertical-align: top;\n",
              "    }\n",
              "\n",
              "    .dataframe thead th {\n",
              "        text-align: right;\n",
              "    }\n",
              "</style>\n",
              "<table border=\"1\" class=\"dataframe\">\n",
              "  <thead>\n",
              "    <tr style=\"text-align: right;\">\n",
              "      <th></th>\n",
              "      <th>Frequência</th>\n",
              "    </tr>\n",
              "    <tr>\n",
              "      <th>ID_Cliente</th>\n",
              "      <th></th>\n",
              "    </tr>\n",
              "  </thead>\n",
              "  <tbody>\n",
              "    <tr>\n",
              "      <th>9995-hotoh</th>\n",
              "      <td>1</td>\n",
              "    </tr>\n",
              "    <tr>\n",
              "      <th>0002-orfbo</th>\n",
              "      <td>1</td>\n",
              "    </tr>\n",
              "    <tr>\n",
              "      <th>0003-mknfe</th>\n",
              "      <td>1</td>\n",
              "    </tr>\n",
              "  </tbody>\n",
              "</table>\n",
              "</div>\n",
              "    <div class=\"colab-df-buttons\">\n",
              "\n",
              "  <div class=\"colab-df-container\">\n",
              "    <button class=\"colab-df-convert\" onclick=\"convertToInteractive('df-fc3700c0-fea2-4529-9b2a-4f14a100b58a')\"\n",
              "            title=\"Convert this dataframe to an interactive table.\"\n",
              "            style=\"display:none;\">\n",
              "\n",
              "  <svg xmlns=\"http://www.w3.org/2000/svg\" height=\"24px\" viewBox=\"0 -960 960 960\">\n",
              "    <path d=\"M120-120v-720h720v720H120Zm60-500h600v-160H180v160Zm220 220h160v-160H400v160Zm0 220h160v-160H400v160ZM180-400h160v-160H180v160Zm440 0h160v-160H620v160ZM180-180h160v-160H180v160Zm440 0h160v-160H620v160Z\"/>\n",
              "  </svg>\n",
              "    </button>\n",
              "\n",
              "  <style>\n",
              "    .colab-df-container {\n",
              "      display:flex;\n",
              "      gap: 12px;\n",
              "    }\n",
              "\n",
              "    .colab-df-convert {\n",
              "      background-color: #E8F0FE;\n",
              "      border: none;\n",
              "      border-radius: 50%;\n",
              "      cursor: pointer;\n",
              "      display: none;\n",
              "      fill: #1967D2;\n",
              "      height: 32px;\n",
              "      padding: 0 0 0 0;\n",
              "      width: 32px;\n",
              "    }\n",
              "\n",
              "    .colab-df-convert:hover {\n",
              "      background-color: #E2EBFA;\n",
              "      box-shadow: 0px 1px 2px rgba(60, 64, 67, 0.3), 0px 1px 3px 1px rgba(60, 64, 67, 0.15);\n",
              "      fill: #174EA6;\n",
              "    }\n",
              "\n",
              "    .colab-df-buttons div {\n",
              "      margin-bottom: 4px;\n",
              "    }\n",
              "\n",
              "    [theme=dark] .colab-df-convert {\n",
              "      background-color: #3B4455;\n",
              "      fill: #D2E3FC;\n",
              "    }\n",
              "\n",
              "    [theme=dark] .colab-df-convert:hover {\n",
              "      background-color: #434B5C;\n",
              "      box-shadow: 0px 1px 3px 1px rgba(0, 0, 0, 0.15);\n",
              "      filter: drop-shadow(0px 1px 2px rgba(0, 0, 0, 0.3));\n",
              "      fill: #FFFFFF;\n",
              "    }\n",
              "  </style>\n",
              "\n",
              "    <script>\n",
              "      const buttonEl =\n",
              "        document.querySelector('#df-fc3700c0-fea2-4529-9b2a-4f14a100b58a button.colab-df-convert');\n",
              "      buttonEl.style.display =\n",
              "        google.colab.kernel.accessAllowed ? 'block' : 'none';\n",
              "\n",
              "      async function convertToInteractive(key) {\n",
              "        const element = document.querySelector('#df-fc3700c0-fea2-4529-9b2a-4f14a100b58a');\n",
              "        const dataTable =\n",
              "          await google.colab.kernel.invokeFunction('convertToInteractive',\n",
              "                                                    [key], {});\n",
              "        if (!dataTable) return;\n",
              "\n",
              "        const docLinkHtml = 'Like what you see? Visit the ' +\n",
              "          '<a target=\"_blank\" href=https://colab.research.google.com/notebooks/data_table.ipynb>data table notebook</a>'\n",
              "          + ' to learn more about interactive tables.';\n",
              "        element.innerHTML = '';\n",
              "        dataTable['output_type'] = 'display_data';\n",
              "        await google.colab.output.renderOutput(dataTable, element);\n",
              "        const docLink = document.createElement('div');\n",
              "        docLink.innerHTML = docLinkHtml;\n",
              "        element.appendChild(docLink);\n",
              "      }\n",
              "    </script>\n",
              "  </div>\n",
              "\n",
              "\n",
              "    <div id=\"df-21e1e40e-923a-440e-8008-6537bf77d739\">\n",
              "      <button class=\"colab-df-quickchart\" onclick=\"quickchart('df-21e1e40e-923a-440e-8008-6537bf77d739')\"\n",
              "                title=\"Suggest charts\"\n",
              "                style=\"display:none;\">\n",
              "\n",
              "<svg xmlns=\"http://www.w3.org/2000/svg\" height=\"24px\"viewBox=\"0 0 24 24\"\n",
              "     width=\"24px\">\n",
              "    <g>\n",
              "        <path d=\"M19 3H5c-1.1 0-2 .9-2 2v14c0 1.1.9 2 2 2h14c1.1 0 2-.9 2-2V5c0-1.1-.9-2-2-2zM9 17H7v-7h2v7zm4 0h-2V7h2v10zm4 0h-2v-4h2v4z\"/>\n",
              "    </g>\n",
              "</svg>\n",
              "      </button>\n",
              "\n",
              "<style>\n",
              "  .colab-df-quickchart {\n",
              "      --bg-color: #E8F0FE;\n",
              "      --fill-color: #1967D2;\n",
              "      --hover-bg-color: #E2EBFA;\n",
              "      --hover-fill-color: #174EA6;\n",
              "      --disabled-fill-color: #AAA;\n",
              "      --disabled-bg-color: #DDD;\n",
              "  }\n",
              "\n",
              "  [theme=dark] .colab-df-quickchart {\n",
              "      --bg-color: #3B4455;\n",
              "      --fill-color: #D2E3FC;\n",
              "      --hover-bg-color: #434B5C;\n",
              "      --hover-fill-color: #FFFFFF;\n",
              "      --disabled-bg-color: #3B4455;\n",
              "      --disabled-fill-color: #666;\n",
              "  }\n",
              "\n",
              "  .colab-df-quickchart {\n",
              "    background-color: var(--bg-color);\n",
              "    border: none;\n",
              "    border-radius: 50%;\n",
              "    cursor: pointer;\n",
              "    display: none;\n",
              "    fill: var(--fill-color);\n",
              "    height: 32px;\n",
              "    padding: 0;\n",
              "    width: 32px;\n",
              "  }\n",
              "\n",
              "  .colab-df-quickchart:hover {\n",
              "    background-color: var(--hover-bg-color);\n",
              "    box-shadow: 0 1px 2px rgba(60, 64, 67, 0.3), 0 1px 3px 1px rgba(60, 64, 67, 0.15);\n",
              "    fill: var(--button-hover-fill-color);\n",
              "  }\n",
              "\n",
              "  .colab-df-quickchart-complete:disabled,\n",
              "  .colab-df-quickchart-complete:disabled:hover {\n",
              "    background-color: var(--disabled-bg-color);\n",
              "    fill: var(--disabled-fill-color);\n",
              "    box-shadow: none;\n",
              "  }\n",
              "\n",
              "  .colab-df-spinner {\n",
              "    border: 2px solid var(--fill-color);\n",
              "    border-color: transparent;\n",
              "    border-bottom-color: var(--fill-color);\n",
              "    animation:\n",
              "      spin 1s steps(1) infinite;\n",
              "  }\n",
              "\n",
              "  @keyframes spin {\n",
              "    0% {\n",
              "      border-color: transparent;\n",
              "      border-bottom-color: var(--fill-color);\n",
              "      border-left-color: var(--fill-color);\n",
              "    }\n",
              "    20% {\n",
              "      border-color: transparent;\n",
              "      border-left-color: var(--fill-color);\n",
              "      border-top-color: var(--fill-color);\n",
              "    }\n",
              "    30% {\n",
              "      border-color: transparent;\n",
              "      border-left-color: var(--fill-color);\n",
              "      border-top-color: var(--fill-color);\n",
              "      border-right-color: var(--fill-color);\n",
              "    }\n",
              "    40% {\n",
              "      border-color: transparent;\n",
              "      border-right-color: var(--fill-color);\n",
              "      border-top-color: var(--fill-color);\n",
              "    }\n",
              "    60% {\n",
              "      border-color: transparent;\n",
              "      border-right-color: var(--fill-color);\n",
              "    }\n",
              "    80% {\n",
              "      border-color: transparent;\n",
              "      border-right-color: var(--fill-color);\n",
              "      border-bottom-color: var(--fill-color);\n",
              "    }\n",
              "    90% {\n",
              "      border-color: transparent;\n",
              "      border-bottom-color: var(--fill-color);\n",
              "    }\n",
              "  }\n",
              "</style>\n",
              "\n",
              "      <script>\n",
              "        async function quickchart(key) {\n",
              "          const quickchartButtonEl =\n",
              "            document.querySelector('#' + key + ' button');\n",
              "          quickchartButtonEl.disabled = true;  // To prevent multiple clicks.\n",
              "          quickchartButtonEl.classList.add('colab-df-spinner');\n",
              "          try {\n",
              "            const charts = await google.colab.kernel.invokeFunction(\n",
              "                'suggestCharts', [key], {});\n",
              "          } catch (error) {\n",
              "            console.error('Error during call to suggestCharts:', error);\n",
              "          }\n",
              "          quickchartButtonEl.classList.remove('colab-df-spinner');\n",
              "          quickchartButtonEl.classList.add('colab-df-quickchart-complete');\n",
              "        }\n",
              "        (() => {\n",
              "          let quickchartButtonEl =\n",
              "            document.querySelector('#df-21e1e40e-923a-440e-8008-6537bf77d739 button');\n",
              "          quickchartButtonEl.style.display =\n",
              "            google.colab.kernel.accessAllowed ? 'block' : 'none';\n",
              "        })();\n",
              "      </script>\n",
              "    </div>\n",
              "\n",
              "    </div>\n",
              "  </div>\n"
            ],
            "application/vnd.google.colaboratory.intrinsic+json": {
              "type": "dataframe",
              "summary": "{\n  \"name\": \"    print(\\\"-\\\" * 35)\",\n  \"rows\": 3,\n  \"fields\": [\n    {\n      \"column\": \"ID_Cliente\",\n      \"properties\": {\n        \"dtype\": \"string\",\n        \"num_unique_values\": 3,\n        \"samples\": [\n          \"9995-hotoh\",\n          \"0002-orfbo\",\n          \"0003-mknfe\"\n        ],\n        \"semantic_type\": \"\",\n        \"description\": \"\"\n      }\n    },\n    {\n      \"column\": \"Frequ\\u00eancia\",\n      \"properties\": {\n        \"dtype\": \"number\",\n        \"std\": 0,\n        \"min\": 1,\n        \"max\": 1,\n        \"num_unique_values\": 1,\n        \"samples\": [\n          1\n        ],\n        \"semantic_type\": \"\",\n        \"description\": \"\"\n      }\n    }\n  ]\n}"
            }
          },
          "metadata": {}
        },
        {
          "output_type": "stream",
          "name": "stdout",
          "text": [
            "-----------------------------------\n"
          ]
        }
      ]
    },
    {
      "cell_type": "code",
      "source": [
        "print(df_encoded.columns.tolist())"
      ],
      "metadata": {
        "colab": {
          "base_uri": "https://localhost:8080/"
        },
        "id": "yT-kLPAltKDl",
        "outputId": "4686b038-7750-4181-ebb6-816abe885c0a"
      },
      "execution_count": 88,
      "outputs": [
        {
          "output_type": "stream",
          "name": "stdout",
          "text": [
            "['ID_Cliente', 'Idoso', 'Meses_de_Contrato', 'Valor_Mensal', 'Valor_Total', 'Cancelamento_1', 'Gênero_masculino', 'Possui_Companheiro_1', 'Possui_Dependentes_1', 'Telefone_Ativo_1', 'Tipo_Internet_fibra óptica', 'Tipo_Contrato_bienal', 'Tipo_Contrato_mensal', 'Fatura_Digital_1', 'Forma_Pagamento_cheque', 'Forma_Pagamento_cheque eletrônico', 'Forma_Pagamento_transferência bancária automática']\n"
          ]
        }
      ]
    },
    {
      "cell_type": "code",
      "source": [
        "df_encoded['Cancelamento_1'].unique()"
      ],
      "metadata": {
        "colab": {
          "base_uri": "https://localhost:8080/"
        },
        "id": "UA-kqUA_fOdw",
        "outputId": "a1367f69-40c1-46aa-f080-1953609b41bb"
      },
      "execution_count": 89,
      "outputs": [
        {
          "output_type": "execute_result",
          "data": {
            "text/plain": [
              "array([False,  True])"
            ]
          },
          "metadata": {},
          "execution_count": 89
        }
      ]
    },
    {
      "cell_type": "code",
      "source": [
        "binarias = [col for col in df_encoded.columns if set(df_encoded[col].dropna().unique()).issubset({0, 1})]\n",
        "\n",
        "df_encoded[binarias] = df_encoded[binarias].astype(bool)\n",
        "\n",
        "df_encoded.info()\n",
        "\n"
      ],
      "metadata": {
        "colab": {
          "base_uri": "https://localhost:8080/"
        },
        "id": "D44JUpZgFgOa",
        "outputId": "76994837-6269-427c-fe22-d51b75b9c572"
      },
      "execution_count": 90,
      "outputs": [
        {
          "output_type": "stream",
          "name": "stdout",
          "text": [
            "<class 'pandas.core.frame.DataFrame'>\n",
            "RangeIndex: 7043 entries, 0 to 7042\n",
            "Data columns (total 17 columns):\n",
            " #   Column                                             Non-Null Count  Dtype  \n",
            "---  ------                                             --------------  -----  \n",
            " 0   ID_Cliente                                         7043 non-null   object \n",
            " 1   Idoso                                              7043 non-null   bool   \n",
            " 2   Meses_de_Contrato                                  7043 non-null   int64  \n",
            " 3   Valor_Mensal                                       7043 non-null   float64\n",
            " 4   Valor_Total                                        7032 non-null   float64\n",
            " 5   Cancelamento_1                                     7043 non-null   bool   \n",
            " 6   Gênero_masculino                                   7043 non-null   bool   \n",
            " 7   Possui_Companheiro_1                               7043 non-null   bool   \n",
            " 8   Possui_Dependentes_1                               7043 non-null   bool   \n",
            " 9   Telefone_Ativo_1                                   7043 non-null   bool   \n",
            " 10  Tipo_Internet_fibra óptica                         7043 non-null   bool   \n",
            " 11  Tipo_Contrato_bienal                               7043 non-null   bool   \n",
            " 12  Tipo_Contrato_mensal                               7043 non-null   bool   \n",
            " 13  Fatura_Digital_1                                   7043 non-null   bool   \n",
            " 14  Forma_Pagamento_cheque                             7043 non-null   bool   \n",
            " 15  Forma_Pagamento_cheque eletrônico                  7043 non-null   bool   \n",
            " 16  Forma_Pagamento_transferência bancária automática  7043 non-null   bool   \n",
            "dtypes: bool(13), float64(2), int64(1), object(1)\n",
            "memory usage: 309.6+ KB\n"
          ]
        }
      ]
    },
    {
      "cell_type": "code",
      "source": [
        "df_encoded.isnull().sum()"
      ],
      "metadata": {
        "colab": {
          "base_uri": "https://localhost:8080/",
          "height": 617
        },
        "id": "Ga_AltL2fRKx",
        "outputId": "6703b423-c980-4efc-ad57-18ddb6aee578"
      },
      "execution_count": 91,
      "outputs": [
        {
          "output_type": "execute_result",
          "data": {
            "text/plain": [
              "ID_Cliente                                            0\n",
              "Idoso                                                 0\n",
              "Meses_de_Contrato                                     0\n",
              "Valor_Mensal                                          0\n",
              "Valor_Total                                          11\n",
              "Cancelamento_1                                        0\n",
              "Gênero_masculino                                      0\n",
              "Possui_Companheiro_1                                  0\n",
              "Possui_Dependentes_1                                  0\n",
              "Telefone_Ativo_1                                      0\n",
              "Tipo_Internet_fibra óptica                            0\n",
              "Tipo_Contrato_bienal                                  0\n",
              "Tipo_Contrato_mensal                                  0\n",
              "Fatura_Digital_1                                      0\n",
              "Forma_Pagamento_cheque                                0\n",
              "Forma_Pagamento_cheque eletrônico                     0\n",
              "Forma_Pagamento_transferência bancária automática     0\n",
              "dtype: int64"
            ],
            "text/html": [
              "<div>\n",
              "<style scoped>\n",
              "    .dataframe tbody tr th:only-of-type {\n",
              "        vertical-align: middle;\n",
              "    }\n",
              "\n",
              "    .dataframe tbody tr th {\n",
              "        vertical-align: top;\n",
              "    }\n",
              "\n",
              "    .dataframe thead th {\n",
              "        text-align: right;\n",
              "    }\n",
              "</style>\n",
              "<table border=\"1\" class=\"dataframe\">\n",
              "  <thead>\n",
              "    <tr style=\"text-align: right;\">\n",
              "      <th></th>\n",
              "      <th>0</th>\n",
              "    </tr>\n",
              "  </thead>\n",
              "  <tbody>\n",
              "    <tr>\n",
              "      <th>ID_Cliente</th>\n",
              "      <td>0</td>\n",
              "    </tr>\n",
              "    <tr>\n",
              "      <th>Idoso</th>\n",
              "      <td>0</td>\n",
              "    </tr>\n",
              "    <tr>\n",
              "      <th>Meses_de_Contrato</th>\n",
              "      <td>0</td>\n",
              "    </tr>\n",
              "    <tr>\n",
              "      <th>Valor_Mensal</th>\n",
              "      <td>0</td>\n",
              "    </tr>\n",
              "    <tr>\n",
              "      <th>Valor_Total</th>\n",
              "      <td>11</td>\n",
              "    </tr>\n",
              "    <tr>\n",
              "      <th>Cancelamento_1</th>\n",
              "      <td>0</td>\n",
              "    </tr>\n",
              "    <tr>\n",
              "      <th>Gênero_masculino</th>\n",
              "      <td>0</td>\n",
              "    </tr>\n",
              "    <tr>\n",
              "      <th>Possui_Companheiro_1</th>\n",
              "      <td>0</td>\n",
              "    </tr>\n",
              "    <tr>\n",
              "      <th>Possui_Dependentes_1</th>\n",
              "      <td>0</td>\n",
              "    </tr>\n",
              "    <tr>\n",
              "      <th>Telefone_Ativo_1</th>\n",
              "      <td>0</td>\n",
              "    </tr>\n",
              "    <tr>\n",
              "      <th>Tipo_Internet_fibra óptica</th>\n",
              "      <td>0</td>\n",
              "    </tr>\n",
              "    <tr>\n",
              "      <th>Tipo_Contrato_bienal</th>\n",
              "      <td>0</td>\n",
              "    </tr>\n",
              "    <tr>\n",
              "      <th>Tipo_Contrato_mensal</th>\n",
              "      <td>0</td>\n",
              "    </tr>\n",
              "    <tr>\n",
              "      <th>Fatura_Digital_1</th>\n",
              "      <td>0</td>\n",
              "    </tr>\n",
              "    <tr>\n",
              "      <th>Forma_Pagamento_cheque</th>\n",
              "      <td>0</td>\n",
              "    </tr>\n",
              "    <tr>\n",
              "      <th>Forma_Pagamento_cheque eletrônico</th>\n",
              "      <td>0</td>\n",
              "    </tr>\n",
              "    <tr>\n",
              "      <th>Forma_Pagamento_transferência bancária automática</th>\n",
              "      <td>0</td>\n",
              "    </tr>\n",
              "  </tbody>\n",
              "</table>\n",
              "</div><br><label><b>dtype:</b> int64</label>"
            ]
          },
          "metadata": {},
          "execution_count": 91
        }
      ]
    },
    {
      "cell_type": "code",
      "source": [
        "correlacao = dados_numericos.corr().abs()\n",
        "\n",
        "upper = correlacao.where(np.triu(np.ones(correlacao.shape), k=1).astype(bool))\n",
        "\n",
        "pares_correlacionados = [\n",
        "    (col, row, upper.loc[row, col])\n",
        "    for col in upper.columns\n",
        "    for row in upper.index\n",
        "    if pd.notnull(upper.loc[row, col]) and upper.loc[row, col] > 0.95\n",
        "]\n",
        "\n",
        "print(\"🔁 PARES DE COLUNAS COM ALTA CORRELAÇÃO:\")\n",
        "print('-'*40)\n",
        "for col1, col2, corr_val in pares_correlacionados:\n",
        "    print(f\"{col1} 🔛 {col2}  -> correlação: {corr_val:.2f}\")\n"
      ],
      "metadata": {
        "colab": {
          "base_uri": "https://localhost:8080/"
        },
        "id": "3xUECvAPGVGd",
        "outputId": "62d50a0d-c996-4050-9dd1-c77bb66d2793"
      },
      "execution_count": 92,
      "outputs": [
        {
          "output_type": "stream",
          "name": "stdout",
          "text": [
            "🔁 PARES DE COLUNAS COM ALTA CORRELAÇÃO:\n",
            "----------------------------------------\n"
          ]
        }
      ]
    },
    {
      "cell_type": "code",
      "source": [
        "print(df_encoded.columns.tolist())"
      ],
      "metadata": {
        "colab": {
          "base_uri": "https://localhost:8080/"
        },
        "id": "jHyN7LNptUtB",
        "outputId": "ce80538d-e286-4835-f83a-0a128b923f91"
      },
      "execution_count": 93,
      "outputs": [
        {
          "output_type": "stream",
          "name": "stdout",
          "text": [
            "['ID_Cliente', 'Idoso', 'Meses_de_Contrato', 'Valor_Mensal', 'Valor_Total', 'Cancelamento_1', 'Gênero_masculino', 'Possui_Companheiro_1', 'Possui_Dependentes_1', 'Telefone_Ativo_1', 'Tipo_Internet_fibra óptica', 'Tipo_Contrato_bienal', 'Tipo_Contrato_mensal', 'Fatura_Digital_1', 'Forma_Pagamento_cheque', 'Forma_Pagamento_cheque eletrônico', 'Forma_Pagamento_transferência bancária automática']\n"
          ]
        }
      ]
    },
    {
      "cell_type": "code",
      "source": [
        "# Verifica valores nulos nas duas colunas\n",
        "print(df_encoded[['Valor_Mensal', 'Valor_Total']].isnull().sum())"
      ],
      "metadata": {
        "colab": {
          "base_uri": "https://localhost:8080/"
        },
        "id": "Zdi1I44RfWTm",
        "outputId": "a80e8615-4780-4a0e-a5fc-658966d36734"
      },
      "execution_count": 94,
      "outputs": [
        {
          "output_type": "stream",
          "name": "stdout",
          "text": [
            "Valor_Mensal     0\n",
            "Valor_Total     11\n",
            "dtype: int64\n"
          ]
        }
      ]
    },
    {
      "cell_type": "markdown",
      "source": [
        "## Verificação da Proporção de Evasão"
      ],
      "metadata": {
        "id": "98zixJ72fcPS"
      }
    },
    {
      "cell_type": "code",
      "source": [
        "import matplotlib.pyplot as plt\n",
        "import seaborn as sns\n",
        "\n",
        "frequencia = df_encoded['Cancelamento_1'].value_counts()\n",
        "proporcao = df_encoded['Cancelamento_1'].value_counts(normalize=True) * 100\n",
        "\n",
        "plt.figure(figsize=(8, 5))\n",
        "sns.barplot(x=proporcao.index, y=proporcao.values, palette='coolwarm')\n",
        "plt.ylabel('Proporção (%)')\n",
        "plt.xlabel('Cancelamento')\n",
        "plt.title('Distribuição da Evasão de Clientes')\n",
        "plt.ylim(0, proporcao.values.max() + 5)\n",
        "plt.show()\n",
        "\n",
        "print(\"\\n📊 FREQUÊNCIA ABSOLUTA:\")\n",
        "print(\"-\" * 23)\n",
        "print(frequencia)\n",
        "print(\"-\" * 23)\n",
        "\n",
        "print(\"\\n📈 PROPORÇÃO (%):\")\n",
        "print(\"-\" * 17)\n",
        "print(proporcao.round(2))\n",
        "print(\"-\" * 17)\n"
      ],
      "metadata": {
        "colab": {
          "base_uri": "https://localhost:8080/",
          "height": 878
        },
        "id": "bWmdIqLHG0Aq",
        "outputId": "10bf46d7-fa1a-4ab7-d6b5-a143bf2bb16c"
      },
      "execution_count": 95,
      "outputs": [
        {
          "output_type": "stream",
          "name": "stderr",
          "text": [
            "/tmp/ipython-input-4135576726.py:8: FutureWarning:\n",
            "\n",
            "\n",
            "\n",
            "Passing `palette` without assigning `hue` is deprecated and will be removed in v0.14.0. Assign the `x` variable to `hue` and set `legend=False` for the same effect.\n",
            "\n",
            "\n"
          ]
        },
        {
          "output_type": "display_data",
          "data": {
            "text/plain": [
              "<Figure size 800x500 with 1 Axes>"
            ],
            "image/png": "[encoded data removed]"
          },
          "metadata": {}
        },
        {
          "output_type": "stream",
          "name": "stdout",
          "text": [
            "\n",
            "📊 FREQUÊNCIA ABSOLUTA:\n",
            "-----------------------\n",
            "Cancelamento_1\n",
            "False    5174\n",
            "True     1869\n",
            "Name: count, dtype: int64\n",
            "-----------------------\n",
            "\n",
            "📈 PROPORÇÃO (%):\n",
            "-----------------\n",
            "Cancelamento_1\n",
            "False    73.46\n",
            "True     26.54\n",
            "Name: proportion, dtype: float64\n",
            "-----------------\n"
          ]
        }
      ]
    },
    {
      "cell_type": "code",
      "source": [
        "df['Cancelamento'].value_counts()\n",
        "dados_ativos_proporcao = (df['Cancelamento'].value_counts() / len(df)) * 100\n",
        "\n",
        "print(\"Proporção de evasão de clientes:\")\n",
        "for index, value in dados_ativos_proporcao.items():\n",
        "  print(f\"{index} {value:.2f}%\")"
      ],
      "metadata": {
        "colab": {
          "base_uri": "https://localhost:8080/"
        },
        "id": "iOFNw-MCfaC8",
        "outputId": "7f12a84f-85d3-4e5b-c9d0-de171b60471e"
      },
      "execution_count": 96,
      "outputs": [
        {
          "output_type": "stream",
          "name": "stdout",
          "text": [
            "Proporção de evasão de clientes:\n",
            "0 73.46%\n",
            "1 26.54%\n"
          ]
        }
      ]
    },
    {
      "cell_type": "markdown",
      "source": [
        "## Análise de Correlação e Separação de variáveis"
      ],
      "metadata": {
        "id": "aEtZYv3Dfy0w"
      }
    },
    {
      "cell_type": "code",
      "source": [
        "import pandas as pd\n",
        "import seaborn as sns\n",
        "import matplotlib.pyplot as plt\n",
        "\n",
        "# Selecionar apenas colunas numéricas (inclusive Churn)\n",
        "num_df = df_encoded.select_dtypes(include=['int64', 'float64'])\n",
        "\n",
        "# Calcular correlação\n",
        "corr_matrix = num_df.corr()\n",
        "\n",
        "# Plotar heatmap\n",
        "plt.figure(figsize=(12,8))\n",
        "sns.heatmap(corr_matrix, annot=True, cmap=\"coolwarm\", fmt=\".2f\")\n",
        "plt.title(\"Matriz de Correlação - Todas variáveis numéricas\")\n",
        "plt.show()"
      ],
      "metadata": {
        "colab": {
          "base_uri": "https://localhost:8080/",
          "height": 508
        },
        "id": "t2Xr7pW0fyi5",
        "outputId": "c2f7dd81-2043-4bb7-d57c-c7393a7df969"
      },
      "execution_count": 97,
      "outputs": [
        {
          "output_type": "display_data",
          "data": {
            "text/plain": [
              "<Figure size 1200x800 with 2 Axes>"
            ],
            "image/png": "[encoded data removed]"
          },
          "metadata": {}
        }
      ]
    },
    {
      "cell_type": "markdown",
      "source": [
        " Correlação com Churn (após separar X e y)"
      ],
      "metadata": {
        "id": "0sxs96Dtf9Eq"
      }
    },
    {
      "cell_type": "code",
      "source": [
        "X = df_encoded.drop(columns=[\"Cancelamento_1\", \"ID_Cliente\"])\n",
        "\n",
        "X_num = X.select_dtypes(include=['int64', 'float64'])\n",
        "\n",
        "corr_with_churn = X_num.corrwith(y)\n",
        "\n",
        "\n",
        "print(corr_with_churn.sort_values(ascending=False))\n",
        "\n",
        "plt.figure(figsize=(10,6))\n",
        "corr_with_churn.sort_values().plot(kind='barh', color=\"steelblue\")\n",
        "plt.title(\"Correlação das variáveis numéricas com Churn\")\n",
        "plt.xlabel(\"Coeficiente de Correlação\")\n",
        "plt.ylabel(\"Variáveis\")\n",
        "plt.show()"
      ],
      "metadata": {
        "colab": {
          "base_uri": "https://localhost:8080/",
          "height": 455
        },
        "id": "Uvty7AfZHslb",
        "outputId": "fb629e0a-1539-4112-eaf0-4c16a0935d9e"
      },
      "execution_count": 98,
      "outputs": [
        {
          "output_type": "stream",
          "name": "stdout",
          "text": [
            "Valor_Mensal         0.193356\n",
            "Valor_Total         -0.199484\n",
            "Meses_de_Contrato   -0.352229\n",
            "dtype: float64\n"
          ]
        },
        {
          "output_type": "display_data",
          "data": {
            "text/plain": [
              "<Figure size 1000x600 with 1 Axes>"
            ],
            "image/png": "[encoded data removed]"
          },
          "metadata": {}
        }
      ]
    },
    {
      "cell_type": "code",
      "source": [
        "correlations = df_encoded.corr(numeric_only=True)['Cancelamento_1'].abs().sort_values(ascending=False)\n",
        "\n",
        "correlations_sorted = correlations.drop('Cancelamento_1')"
      ],
      "metadata": {
        "id": "-syHTQrNuVpf"
      },
      "execution_count": 99,
      "outputs": []
    },
    {
      "cell_type": "code",
      "source": [
        "plt.figure(figsize=(10, 8))\n",
        "sns.barplot(x=correlations_sorted.values, y=correlations_sorted.index, palette=\"viridis\")\n",
        "plt.title(\"Correlação de variáveis com Cancelou_1 (Evasão)\")\n",
        "plt.xlabel(\"Correlação Absoluta\")\n",
        "plt.ylabel(\"Variáveis\")\n",
        "plt.show()"
      ],
      "metadata": {
        "colab": {
          "base_uri": "https://localhost:8080/",
          "height": 535
        },
        "id": "mObfP1d4gJVM",
        "outputId": "ad8e9645-9c8e-4090-ffc0-4f708ea6b9e0"
      },
      "execution_count": 100,
      "outputs": [
        {
          "output_type": "stream",
          "name": "stderr",
          "text": [
            "/tmp/ipython-input-1041628254.py:2: FutureWarning:\n",
            "\n",
            "\n",
            "\n",
            "Passing `palette` without assigning `hue` is deprecated and will be removed in v0.14.0. Assign the `y` variable to `hue` and set `legend=False` for the same effect.\n",
            "\n",
            "\n"
          ]
        },
        {
          "output_type": "display_data",
          "data": {
            "text/plain": [
              "<Figure size 1000x800 with 1 Axes>"
            ],
            "image/png": "[encoded data removed]"
          },
          "metadata": {}
        }
      ]
    },
    {
      "cell_type": "markdown",
      "source": [
        " Análises Direcionadas"
      ],
      "metadata": {
        "id": "FN3BbmK9gIUp"
      }
    },
    {
      "cell_type": "code",
      "source": [
        "pd.get_dummies(df['Tipo_Contrato'], drop_first=False)"
      ],
      "metadata": {
        "colab": {
          "base_uri": "https://localhost:8080/",
          "height": 423
        },
        "id": "R7yui8p6xkhx",
        "outputId": "947575c1-f7dc-4ca1-d1ba-5570c49c8b91"
      },
      "execution_count": 101,
      "outputs": [
        {
          "output_type": "execute_result",
          "data": {
            "text/plain": [
              "      anual  bienal  mensal\n",
              "0      True   False   False\n",
              "1     False   False    True\n",
              "2     False   False    True\n",
              "3     False   False    True\n",
              "4     False   False    True\n",
              "...     ...     ...     ...\n",
              "7038   True   False   False\n",
              "7039  False   False    True\n",
              "7040  False   False    True\n",
              "7041  False    True   False\n",
              "7042  False    True   False\n",
              "\n",
              "[7043 rows x 3 columns]"
            ],
            "text/html": [
              "\n",
              "  <div id=\"df-bbfeb452-4190-48b1-8149-bf9cedf32c25\" class=\"colab-df-container\">\n",
              "    <div>\n",
              "<style scoped>\n",
              "    .dataframe tbody tr th:only-of-type {\n",
              "        vertical-align: middle;\n",
              "    }\n",
              "\n",
              "    .dataframe tbody tr th {\n",
              "        vertical-align: top;\n",
              "    }\n",
              "\n",
              "    .dataframe thead th {\n",
              "        text-align: right;\n",
              "    }\n",
              "</style>\n",
              "<table border=\"1\" class=\"dataframe\">\n",
              "  <thead>\n",
              "    <tr style=\"text-align: right;\">\n",
              "      <th></th>\n",
              "      <th>anual</th>\n",
              "      <th>bienal</th>\n",
              "      <th>mensal</th>\n",
              "    </tr>\n",
              "  </thead>\n",
              "  <tbody>\n",
              "    <tr>\n",
              "      <th>0</th>\n",
              "      <td>True</td>\n",
              "      <td>False</td>\n",
              "      <td>False</td>\n",
              "    </tr>\n",
              "    <tr>\n",
              "      <th>1</th>\n",
              "      <td>False</td>\n",
              "      <td>False</td>\n",
              "      <td>True</td>\n",
              "    </tr>\n",
              "    <tr>\n",
              "      <th>2</th>\n",
              "      <td>False</td>\n",
              "      <td>False</td>\n",
              "      <td>True</td>\n",
              "    </tr>\n",
              "    <tr>\n",
              "      <th>3</th>\n",
              "      <td>False</td>\n",
              "      <td>False</td>\n",
              "      <td>True</td>\n",
              "    </tr>\n",
              "    <tr>\n",
              "      <th>4</th>\n",
              "      <td>False</td>\n",
              "      <td>False</td>\n",
              "      <td>True</td>\n",
              "    </tr>\n",
              "    <tr>\n",
              "      <th>...</th>\n",
              "      <td>...</td>\n",
              "      <td>...</td>\n",
              "      <td>...</td>\n",
              "    </tr>\n",
              "    <tr>\n",
              "      <th>7038</th>\n",
              "      <td>True</td>\n",
              "      <td>False</td>\n",
              "      <td>False</td>\n",
              "    </tr>\n",
              "    <tr>\n",
              "      <th>7039</th>\n",
              "      <td>False</td>\n",
              "      <td>False</td>\n",
              "      <td>True</td>\n",
              "    </tr>\n",
              "    <tr>\n",
              "      <th>7040</th>\n",
              "      <td>False</td>\n",
              "      <td>False</td>\n",
              "      <td>True</td>\n",
              "    </tr>\n",
              "    <tr>\n",
              "      <th>7041</th>\n",
              "      <td>False</td>\n",
              "      <td>True</td>\n",
              "      <td>False</td>\n",
              "    </tr>\n",
              "    <tr>\n",
              "      <th>7042</th>\n",
              "      <td>False</td>\n",
              "      <td>True</td>\n",
              "      <td>False</td>\n",
              "    </tr>\n",
              "  </tbody>\n",
              "</table>\n",
              "<p>7043 rows × 3 columns</p>\n",
              "</div>\n",
              "    <div class=\"colab-df-buttons\">\n",
              "\n",
              "  <div class=\"colab-df-container\">\n",
              "    <button class=\"colab-df-convert\" onclick=\"convertToInteractive('df-bbfeb452-4190-48b1-8149-bf9cedf32c25')\"\n",
              "            title=\"Convert this dataframe to an interactive table.\"\n",
              "            style=\"display:none;\">\n",
              "\n",
              "  <svg xmlns=\"http://www.w3.org/2000/svg\" height=\"24px\" viewBox=\"0 -960 960 960\">\n",
              "    <path d=\"M120-120v-720h720v720H120Zm60-500h600v-160H180v160Zm220 220h160v-160H400v160Zm0 220h160v-160H400v160ZM180-400h160v-160H180v160Zm440 0h160v-160H620v160ZM180-180h160v-160H180v160Zm440 0h160v-160H620v160Z\"/>\n",
              "  </svg>\n",
              "    </button>\n",
              "\n",
              "  <style>\n",
              "    .colab-df-container {\n",
              "      display:flex;\n",
              "      gap: 12px;\n",
              "    }\n",
              "\n",
              "    .colab-df-convert {\n",
              "      background-color: #E8F0FE;\n",
              "      border: none;\n",
              "      border-radius: 50%;\n",
              "      cursor: pointer;\n",
              "      display: none;\n",
              "      fill: #1967D2;\n",
              "      height: 32px;\n",
              "      padding: 0 0 0 0;\n",
              "      width: 32px;\n",
              "    }\n",
              "\n",
              "    .colab-df-convert:hover {\n",
              "      background-color: #E2EBFA;\n",
              "      box-shadow: 0px 1px 2px rgba(60, 64, 67, 0.3), 0px 1px 3px 1px rgba(60, 64, 67, 0.15);\n",
              "      fill: #174EA6;\n",
              "    }\n",
              "\n",
              "    .colab-df-buttons div {\n",
              "      margin-bottom: 4px;\n",
              "    }\n",
              "\n",
              "    [theme=dark] .colab-df-convert {\n",
              "      background-color: #3B4455;\n",
              "      fill: #D2E3FC;\n",
              "    }\n",
              "\n",
              "    [theme=dark] .colab-df-convert:hover {\n",
              "      background-color: #434B5C;\n",
              "      box-shadow: 0px 1px 3px 1px rgba(0, 0, 0, 0.15);\n",
              "      filter: drop-shadow(0px 1px 2px rgba(0, 0, 0, 0.3));\n",
              "      fill: #FFFFFF;\n",
              "    }\n",
              "  </style>\n",
              "\n",
              "    <script>\n",
              "      const buttonEl =\n",
              "        document.querySelector('#df-bbfeb452-4190-48b1-8149-bf9cedf32c25 button.colab-df-convert');\n",
              "      buttonEl.style.display =\n",
              "        google.colab.kernel.accessAllowed ? 'block' : 'none';\n",
              "\n",
              "      async function convertToInteractive(key) {\n",
              "        const element = document.querySelector('#df-bbfeb452-4190-48b1-8149-bf9cedf32c25');\n",
              "        const dataTable =\n",
              "          await google.colab.kernel.invokeFunction('convertToInteractive',\n",
              "                                                    [key], {});\n",
              "        if (!dataTable) return;\n",
              "\n",
              "        const docLinkHtml = 'Like what you see? Visit the ' +\n",
              "          '<a target=\"_blank\" href=https://colab.research.google.com/notebooks/data_table.ipynb>data table notebook</a>'\n",
              "          + ' to learn more about interactive tables.';\n",
              "        element.innerHTML = '';\n",
              "        dataTable['output_type'] = 'display_data';\n",
              "        await google.colab.output.renderOutput(dataTable, element);\n",
              "        const docLink = document.createElement('div');\n",
              "        docLink.innerHTML = docLinkHtml;\n",
              "        element.appendChild(docLink);\n",
              "      }\n",
              "    </script>\n",
              "  </div>\n",
              "\n",
              "\n",
              "    <div id=\"df-c12e8a74-193b-413b-90c4-e0475c446c75\">\n",
              "      <button class=\"colab-df-quickchart\" onclick=\"quickchart('df-c12e8a74-193b-413b-90c4-e0475c446c75')\"\n",
              "                title=\"Suggest charts\"\n",
              "                style=\"display:none;\">\n",
              "\n",
              "<svg xmlns=\"http://www.w3.org/2000/svg\" height=\"24px\"viewBox=\"0 0 24 24\"\n",
              "     width=\"24px\">\n",
              "    <g>\n",
              "        <path d=\"M19 3H5c-1.1 0-2 .9-2 2v14c0 1.1.9 2 2 2h14c1.1 0 2-.9 2-2V5c0-1.1-.9-2-2-2zM9 17H7v-7h2v7zm4 0h-2V7h2v10zm4 0h-2v-4h2v4z\"/>\n",
              "    </g>\n",
              "</svg>\n",
              "      </button>\n",
              "\n",
              "<style>\n",
              "  .colab-df-quickchart {\n",
              "      --bg-color: #E8F0FE;\n",
              "      --fill-color: #1967D2;\n",
              "      --hover-bg-color: #E2EBFA;\n",
              "      --hover-fill-color: #174EA6;\n",
              "      --disabled-fill-color: #AAA;\n",
              "      --disabled-bg-color: #DDD;\n",
              "  }\n",
              "\n",
              "  [theme=dark] .colab-df-quickchart {\n",
              "      --bg-color: #3B4455;\n",
              "      --fill-color: #D2E3FC;\n",
              "      --hover-bg-color: #434B5C;\n",
              "      --hover-fill-color: #FFFFFF;\n",
              "      --disabled-bg-color: #3B4455;\n",
              "      --disabled-fill-color: #666;\n",
              "  }\n",
              "\n",
              "  .colab-df-quickchart {\n",
              "    background-color: var(--bg-color);\n",
              "    border: none;\n",
              "    border-radius: 50%;\n",
              "    cursor: pointer;\n",
              "    display: none;\n",
              "    fill: var(--fill-color);\n",
              "    height: 32px;\n",
              "    padding: 0;\n",
              "    width: 32px;\n",
              "  }\n",
              "\n",
              "  .colab-df-quickchart:hover {\n",
              "    background-color: var(--hover-bg-color);\n",
              "    box-shadow: 0 1px 2px rgba(60, 64, 67, 0.3), 0 1px 3px 1px rgba(60, 64, 67, 0.15);\n",
              "    fill: var(--button-hover-fill-color);\n",
              "  }\n",
              "\n",
              "  .colab-df-quickchart-complete:disabled,\n",
              "  .colab-df-quickchart-complete:disabled:hover {\n",
              "    background-color: var(--disabled-bg-color);\n",
              "    fill: var(--disabled-fill-color);\n",
              "    box-shadow: none;\n",
              "  }\n",
              "\n",
              "  .colab-df-spinner {\n",
              "    border: 2px solid var(--fill-color);\n",
              "    border-color: transparent;\n",
              "    border-bottom-color: var(--fill-color);\n",
              "    animation:\n",
              "      spin 1s steps(1) infinite;\n",
              "  }\n",
              "\n",
              "  @keyframes spin {\n",
              "    0% {\n",
              "      border-color: transparent;\n",
              "      border-bottom-color: var(--fill-color);\n",
              "      border-left-color: var(--fill-color);\n",
              "    }\n",
              "    20% {\n",
              "      border-color: transparent;\n",
              "      border-left-color: var(--fill-color);\n",
              "      border-top-color: var(--fill-color);\n",
              "    }\n",
              "    30% {\n",
              "      border-color: transparent;\n",
              "      border-left-color: var(--fill-color);\n",
              "      border-top-color: var(--fill-color);\n",
              "      border-right-color: var(--fill-color);\n",
              "    }\n",
              "    40% {\n",
              "      border-color: transparent;\n",
              "      border-right-color: var(--fill-color);\n",
              "      border-top-color: var(--fill-color);\n",
              "    }\n",
              "    60% {\n",
              "      border-color: transparent;\n",
              "      border-right-color: var(--fill-color);\n",
              "    }\n",
              "    80% {\n",
              "      border-color: transparent;\n",
              "      border-right-color: var(--fill-color);\n",
              "      border-bottom-color: var(--fill-color);\n",
              "    }\n",
              "    90% {\n",
              "      border-color: transparent;\n",
              "      border-bottom-color: var(--fill-color);\n",
              "    }\n",
              "  }\n",
              "</style>\n",
              "\n",
              "      <script>\n",
              "        async function quickchart(key) {\n",
              "          const quickchartButtonEl =\n",
              "            document.querySelector('#' + key + ' button');\n",
              "          quickchartButtonEl.disabled = true;  // To prevent multiple clicks.\n",
              "          quickchartButtonEl.classList.add('colab-df-spinner');\n",
              "          try {\n",
              "            const charts = await google.colab.kernel.invokeFunction(\n",
              "                'suggestCharts', [key], {});\n",
              "          } catch (error) {\n",
              "            console.error('Error during call to suggestCharts:', error);\n",
              "          }\n",
              "          quickchartButtonEl.classList.remove('colab-df-spinner');\n",
              "          quickchartButtonEl.classList.add('colab-df-quickchart-complete');\n",
              "        }\n",
              "        (() => {\n",
              "          let quickchartButtonEl =\n",
              "            document.querySelector('#df-c12e8a74-193b-413b-90c4-e0475c446c75 button');\n",
              "          quickchartButtonEl.style.display =\n",
              "            google.colab.kernel.accessAllowed ? 'block' : 'none';\n",
              "        })();\n",
              "      </script>\n",
              "    </div>\n",
              "\n",
              "    </div>\n",
              "  </div>\n"
            ],
            "application/vnd.google.colaboratory.intrinsic+json": {
              "type": "dataframe",
              "summary": "{\n  \"name\": \"pd\",\n  \"rows\": 7043,\n  \"fields\": [\n    {\n      \"column\": \"anual\",\n      \"properties\": {\n        \"dtype\": \"boolean\",\n        \"num_unique_values\": 2,\n        \"samples\": [\n          false,\n          true\n        ],\n        \"semantic_type\": \"\",\n        \"description\": \"\"\n      }\n    },\n    {\n      \"column\": \"bienal\",\n      \"properties\": {\n        \"dtype\": \"boolean\",\n        \"num_unique_values\": 2,\n        \"samples\": [\n          true,\n          false\n        ],\n        \"semantic_type\": \"\",\n        \"description\": \"\"\n      }\n    },\n    {\n      \"column\": \"mensal\",\n      \"properties\": {\n        \"dtype\": \"boolean\",\n        \"num_unique_values\": 2,\n        \"samples\": [\n          true,\n          false\n        ],\n        \"semantic_type\": \"\",\n        \"description\": \"\"\n      }\n    }\n  ]\n}"
            }
          },
          "metadata": {},
          "execution_count": 101
        }
      ]
    },
    {
      "cell_type": "code",
      "source": [
        "print([col for col in df_encoded.columns if 'Tipo_Contrato' in col])"
      ],
      "metadata": {
        "colab": {
          "base_uri": "https://localhost:8080/"
        },
        "id": "u3_sJ5gBxrOC",
        "outputId": "01424761-c484-4b51-820f-e96467ee13cb"
      },
      "execution_count": 102,
      "outputs": [
        {
          "output_type": "stream",
          "name": "stdout",
          "text": [
            "['Tipo_Contrato_bienal', 'Tipo_Contrato_mensal']\n"
          ]
        }
      ]
    },
    {
      "cell_type": "code",
      "source": [
        "def get_contract_type(row):\n",
        "    if 'Tipo_Contrato_Mensal' in row and row['Tipo_Contrato_Mensal'] == 1:\n",
        "        return 'Mensal'\n",
        "    elif 'Tipo_Contrato_Bianual' in row and row['Tipo_Contrato_Bianual'] == 1:\n",
        "        return 'Bianual'\n",
        "    else:\n",
        "        return 'Anual'"
      ],
      "metadata": {
        "id": "jVbsZlvIxsbV"
      },
      "execution_count": 103,
      "outputs": []
    },
    {
      "cell_type": "code",
      "source": [
        "churn_by_contract_type = df.groupby(['Tipo_Contrato', 'Cancelamento']).size().reset_index(name='Quantidade')\n",
        "\n",
        "total_by_contract_type = churn_by_contract_type.groupby('Tipo_Contrato')['Quantidade'].transform('sum')\n",
        "\n",
        "churn_by_contract_type['Percentual'] = churn_by_contract_type['Quantidade'] / total_by_contract_type * 100\n",
        "\n",
        "print(churn_by_contract_type)"
      ],
      "metadata": {
        "colab": {
          "base_uri": "https://localhost:8080/"
        },
        "id": "8hTOJ7Vnxy6Y",
        "outputId": "e7e5f160-101a-43e4-c3fa-d404e704a011"
      },
      "execution_count": 104,
      "outputs": [
        {
          "output_type": "stream",
          "name": "stdout",
          "text": [
            "  Tipo_Contrato  Cancelamento  Quantidade  Percentual\n",
            "0         anual             0        1307   88.730482\n",
            "1         anual             1         166   11.269518\n",
            "2        bienal             0        1647   97.168142\n",
            "3        bienal             1          48    2.831858\n",
            "4        mensal             0        2220   57.290323\n",
            "5        mensal             1        1655   42.709677\n"
          ]
        }
      ]
    },
    {
      "cell_type": "code",
      "source": [
        "import plotly.express as px\n",
        "\n",
        "taxa_churn_contrato = df.groupby(['Tipo_Contrato', 'Cancelamento']).size().reset_index(name='Quantidade')\n",
        "total_by_contract_type = taxa_churn_contrato.groupby('Tipo_Contrato')['Quantidade'].transform('sum')\n",
        "taxa_churn_contrato['Percentual'] = taxa_churn_contrato['Quantidade'] / total_by_contract_type * 100\n",
        "\n",
        "fig_churn_contrato = px.bar(\n",
        "    taxa_churn_contrato,\n",
        "    x='Tipo_Contrato',\n",
        "    y='Percentual',\n",
        "    color='Cancelamento',\n",
        "    color_discrete_map={'Não': 'green', 'Sim': 'red'},\n",
        "    labels={\n",
        "        'Tipo_Contrato': 'Tipo de Contrato',\n",
        "        'Percentual': 'Percentual (%)',\n",
        "        'Cancelamento': 'Churn (Cancelamento)'\n",
        "    },\n",
        "    title='📉 Taxa de Churn por Tipo de Contrato na Telecom X',\n",
        "    text=taxa_churn_contrato['Percentual'].apply(lambda x: f'{x:.1f}%')\n",
        ")\n",
        "fig_churn_contrato.update_layout(barmode='stack', yaxis=dict(ticksuffix='%'), bargap=0.5)\n",
        "fig_churn_contrato.show()"
      ],
      "metadata": {
        "colab": {
          "base_uri": "https://localhost:8080/",
          "height": 542
        },
        "id": "LBv8a38sgV-u",
        "outputId": "d8d83dc8-db16-43c1-8639-d83c786f489a"
      },
      "execution_count": 105,
      "outputs": [
        {
          "output_type": "display_data",
          "data": {
            "text/html": [
              "<html>\n",
              "<head><meta charset=\"utf-8\" /></head>\n",
              "<body>\n",
              "    <div>            <script src=\"https://cdnjs.cloudflare.com/ajax/libs/mathjax/2.7.5/MathJax.js?config=TeX-AMS-MML_SVG\"></script><script type=\"text/javascript\">if (window.MathJax && window.MathJax.Hub && window.MathJax.Hub.Config) {window.MathJax.Hub.Config({SVG: {font: \"STIX-Web\"}});}</script>                <script type=\"text/javascript\">window.PlotlyConfig = {MathJaxConfig: 'local'};</script>\n",
              "        <script charset=\"utf-8\" src=\"https://cdn.plot.ly/plotly-2.35.2.min.js\"></script>                <div id=\"327cfc65-06fe-4e71-82ef-be1e3b7e80aa\" class=\"plotly-graph-div\" style=\"height:525px; width:100%;\"></div>            <script type=\"text/javascript\">                                    window.PLOTLYENV=window.PLOTLYENV || {};                                    if (document.getElementById(\"327cfc65-06fe-4e71-82ef-be1e3b7e80aa\")) {                    Plotly.newPlot(                        \"327cfc65-06fe-4e71-82ef-be1e3b7e80aa\",                        [{\"alignmentgroup\":\"True\",\"hovertemplate\":\"Tipo de Contrato=%{x}\\u003cbr\\u003ePercentual (%)=%{y}\\u003cbr\\u003etext=%{text}\\u003cbr\\u003eChurn (Cancelamento)=%{marker.color}\\u003cextra\\u003e\\u003c\\u002fextra\\u003e\",\"legendgroup\":\"\",\"marker\":{\"color\":[0,1,0,1,0,1],\"coloraxis\":\"coloraxis\",\"pattern\":{\"shape\":\"\"}},\"name\":\"\",\"offsetgroup\":\"\",\"orientation\":\"v\",\"showlegend\":false,\"text\":[\"88.7%\",\"11.3%\",\"97.2%\",\"2.8%\",\"57.3%\",\"42.7%\"],\"textposition\":\"auto\",\"x\":[\"anual\",\"anual\",\"bienal\",\"bienal\",\"mensal\",\"mensal\"],\"xaxis\":\"x\",\"y\":[88.73048200950441,11.269517990495586,97.16814159292035,2.831858407079646,57.29032258064516,42.70967741935484],\"yaxis\":\"y\",\"type\":\"bar\"}],                        {\"template\":{\"data\":{\"histogram2dcontour\":[{\"type\":\"histogram2dcontour\",\"colorbar\":{\"outlinewidth\":0,\"ticks\":\"\"},\"colorscale\":[[0.0,\"#0d0887\"],[0.1111111111111111,\"#46039f\"],[0.2222222222222222,\"#7201a8\"],[0.3333333333333333,\"#9c179e\"],[0.4444444444444444,\"#bd3786\"],[0.5555555555555556,\"#d8576b\"],[0.6666666666666666,\"#ed7953\"],[0.7777777777777778,\"#fb9f3a\"],[0.8888888888888888,\"#fdca26\"],[1.0,\"#f0f921\"]]}],\"choropleth\":[{\"type\":\"choropleth\",\"colorbar\":{\"outlinewidth\":0,\"ticks\":\"\"}}],\"histogram2d\":[{\"type\":\"histogram2d\",\"colorbar\":{\"outlinewidth\":0,\"ticks\":\"\"},\"colorscale\":[[0.0,\"#0d0887\"],[0.1111111111111111,\"#46039f\"],[0.2222222222222222,\"#7201a8\"],[0.3333333333333333,\"#9c179e\"],[0.4444444444444444,\"#bd3786\"],[0.5555555555555556,\"#d8576b\"],[0.6666666666666666,\"#ed7953\"],[0.7777777777777778,\"#fb9f3a\"],[0.8888888888888888,\"#fdca26\"],[1.0,\"#f0f921\"]]}],\"heatmap\":[{\"type\":\"heatmap\",\"colorbar\":{\"outlinewidth\":0,\"ticks\":\"\"},\"colorscale\":[[0.0,\"#0d0887\"],[0.1111111111111111,\"#46039f\"],[0.2222222222222222,\"#7201a8\"],[0.3333333333333333,\"#9c179e\"],[0.4444444444444444,\"#bd3786\"],[0.5555555555555556,\"#d8576b\"],[0.6666666666666666,\"#ed7953\"],[0.7777777777777778,\"#fb9f3a\"],[0.8888888888888888,\"#fdca26\"],[1.0,\"#f0f921\"]]}],\"heatmapgl\":[{\"type\":\"heatmapgl\",\"colorbar\":{\"outlinewidth\":0,\"ticks\":\"\"},\"colorscale\":[[0.0,\"#0d0887\"],[0.1111111111111111,\"#46039f\"],[0.2222222222222222,\"#7201a8\"],[0.3333333333333333,\"#9c179e\"],[0.4444444444444444,\"#bd3786\"],[0.5555555555555556,\"#d8576b\"],[0.6666666666666666,\"#ed7953\"],[0.7777777777777778,\"#fb9f3a\"],[0.8888888888888888,\"#fdca26\"],[1.0,\"#f0f921\"]]}],\"contourcarpet\":[{\"type\":\"contourcarpet\",\"colorbar\":{\"outlinewidth\":0,\"ticks\":\"\"}}],\"contour\":[{\"type\":\"contour\",\"colorbar\":{\"outlinewidth\":0,\"ticks\":\"\"},\"colorscale\":[[0.0,\"#0d0887\"],[0.1111111111111111,\"#46039f\"],[0.2222222222222222,\"#7201a8\"],[0.3333333333333333,\"#9c179e\"],[0.4444444444444444,\"#bd3786\"],[0.5555555555555556,\"#d8576b\"],[0.6666666666666666,\"#ed7953\"],[0.7777777777777778,\"#fb9f3a\"],[0.8888888888888888,\"#fdca26\"],[1.0,\"#f0f921\"]]}],\"surface\":[{\"type\":\"surface\",\"colorbar\":{\"outlinewidth\":0,\"ticks\":\"\"},\"colorscale\":[[0.0,\"#0d0887\"],[0.1111111111111111,\"#46039f\"],[0.2222222222222222,\"#7201a8\"],[0.3333333333333333,\"#9c179e\"],[0.4444444444444444,\"#bd3786\"],[0.5555555555555556,\"#d8576b\"],[0.6666666666666666,\"#ed7953\"],[0.7777777777777778,\"#fb9f3a\"],[0.8888888888888888,\"#fdca26\"],[1.0,\"#f0f921\"]]}],\"mesh3d\":[{\"type\":\"mesh3d\",\"colorbar\":{\"outlinewidth\":0,\"ticks\":\"\"}}],\"scatter\":[{\"fillpattern\":{\"fillmode\":\"overlay\",\"size\":10,\"solidity\":0.2},\"type\":\"scatter\"}],\"parcoords\":[{\"type\":\"parcoords\",\"line\":{\"colorbar\":{\"outlinewidth\":0,\"ticks\":\"\"}}}],\"scatterpolargl\":[{\"type\":\"scatterpolargl\",\"marker\":{\"colorbar\":{\"outlinewidth\":0,\"ticks\":\"\"}}}],\"bar\":[{\"error_x\":{\"color\":\"#2a3f5f\"},\"error_y\":{\"color\":\"#2a3f5f\"},\"marker\":{\"line\":{\"color\":\"#E5ECF6\",\"width\":0.5},\"pattern\":{\"fillmode\":\"overlay\",\"size\":10,\"solidity\":0.2}},\"type\":\"bar\"}],\"scattergeo\":[{\"type\":\"scattergeo\",\"marker\":{\"colorbar\":{\"outlinewidth\":0,\"ticks\":\"\"}}}],\"scatterpolar\":[{\"type\":\"scatterpolar\",\"marker\":{\"colorbar\":{\"outlinewidth\":0,\"ticks\":\"\"}}}],\"histogram\":[{\"marker\":{\"pattern\":{\"fillmode\":\"overlay\",\"size\":10,\"solidity\":0.2}},\"type\":\"histogram\"}],\"scattergl\":[{\"type\":\"scattergl\",\"marker\":{\"colorbar\":{\"outlinewidth\":0,\"ticks\":\"\"}}}],\"scatter3d\":[{\"type\":\"scatter3d\",\"line\":{\"colorbar\":{\"outlinewidth\":0,\"ticks\":\"\"}},\"marker\":{\"colorbar\":{\"outlinewidth\":0,\"ticks\":\"\"}}}],\"scattermapbox\":[{\"type\":\"scattermapbox\",\"marker\":{\"colorbar\":{\"outlinewidth\":0,\"ticks\":\"\"}}}],\"scatterternary\":[{\"type\":\"scatterternary\",\"marker\":{\"colorbar\":{\"outlinewidth\":0,\"ticks\":\"\"}}}],\"scattercarpet\":[{\"type\":\"scattercarpet\",\"marker\":{\"colorbar\":{\"outlinewidth\":0,\"ticks\":\"\"}}}],\"carpet\":[{\"aaxis\":{\"endlinecolor\":\"#2a3f5f\",\"gridcolor\":\"white\",\"linecolor\":\"white\",\"minorgridcolor\":\"white\",\"startlinecolor\":\"#2a3f5f\"},\"baxis\":{\"endlinecolor\":\"#2a3f5f\",\"gridcolor\":\"white\",\"linecolor\":\"white\",\"minorgridcolor\":\"white\",\"startlinecolor\":\"#2a3f5f\"},\"type\":\"carpet\"}],\"table\":[{\"cells\":{\"fill\":{\"color\":\"#EBF0F8\"},\"line\":{\"color\":\"white\"}},\"header\":{\"fill\":{\"color\":\"#C8D4E3\"},\"line\":{\"color\":\"white\"}},\"type\":\"table\"}],\"barpolar\":[{\"marker\":{\"line\":{\"color\":\"#E5ECF6\",\"width\":0.5},\"pattern\":{\"fillmode\":\"overlay\",\"size\":10,\"solidity\":0.2}},\"type\":\"barpolar\"}],\"pie\":[{\"automargin\":true,\"type\":\"pie\"}]},\"layout\":{\"autotypenumbers\":\"strict\",\"colorway\":[\"#636efa\",\"#EF553B\",\"#00cc96\",\"#ab63fa\",\"#FFA15A\",\"#19d3f3\",\"#FF6692\",\"#B6E880\",\"#FF97FF\",\"#FECB52\"],\"font\":{\"color\":\"#2a3f5f\"},\"hovermode\":\"closest\",\"hoverlabel\":{\"align\":\"left\"},\"paper_bgcolor\":\"white\",\"plot_bgcolor\":\"#E5ECF6\",\"polar\":{\"bgcolor\":\"#E5ECF6\",\"angularaxis\":{\"gridcolor\":\"white\",\"linecolor\":\"white\",\"ticks\":\"\"},\"radialaxis\":{\"gridcolor\":\"white\",\"linecolor\":\"white\",\"ticks\":\"\"}},\"ternary\":{\"bgcolor\":\"#E5ECF6\",\"aaxis\":{\"gridcolor\":\"white\",\"linecolor\":\"white\",\"ticks\":\"\"},\"baxis\":{\"gridcolor\":\"white\",\"linecolor\":\"white\",\"ticks\":\"\"},\"caxis\":{\"gridcolor\":\"white\",\"linecolor\":\"white\",\"ticks\":\"\"}},\"coloraxis\":{\"colorbar\":{\"outlinewidth\":0,\"ticks\":\"\"}},\"colorscale\":{\"sequential\":[[0.0,\"#0d0887\"],[0.1111111111111111,\"#46039f\"],[0.2222222222222222,\"#7201a8\"],[0.3333333333333333,\"#9c179e\"],[0.4444444444444444,\"#bd3786\"],[0.5555555555555556,\"#d8576b\"],[0.6666666666666666,\"#ed7953\"],[0.7777777777777778,\"#fb9f3a\"],[0.8888888888888888,\"#fdca26\"],[1.0,\"#f0f921\"]],\"sequentialminus\":[[0.0,\"#0d0887\"],[0.1111111111111111,\"#46039f\"],[0.2222222222222222,\"#7201a8\"],[0.3333333333333333,\"#9c179e\"],[0.4444444444444444,\"#bd3786\"],[0.5555555555555556,\"#d8576b\"],[0.6666666666666666,\"#ed7953\"],[0.7777777777777778,\"#fb9f3a\"],[0.8888888888888888,\"#fdca26\"],[1.0,\"#f0f921\"]],\"diverging\":[[0,\"#8e0152\"],[0.1,\"#c51b7d\"],[0.2,\"#de77ae\"],[0.3,\"#f1b6da\"],[0.4,\"#fde0ef\"],[0.5,\"#f7f7f7\"],[0.6,\"#e6f5d0\"],[0.7,\"#b8e186\"],[0.8,\"#7fbc41\"],[0.9,\"#4d9221\"],[1,\"#276419\"]]},\"xaxis\":{\"gridcolor\":\"white\",\"linecolor\":\"white\",\"ticks\":\"\",\"title\":{\"standoff\":15},\"zerolinecolor\":\"white\",\"automargin\":true,\"zerolinewidth\":2},\"yaxis\":{\"gridcolor\":\"white\",\"linecolor\":\"white\",\"ticks\":\"\",\"title\":{\"standoff\":15},\"zerolinecolor\":\"white\",\"automargin\":true,\"zerolinewidth\":2},\"scene\":{\"xaxis\":{\"backgroundcolor\":\"#E5ECF6\",\"gridcolor\":\"white\",\"linecolor\":\"white\",\"showbackground\":true,\"ticks\":\"\",\"zerolinecolor\":\"white\",\"gridwidth\":2},\"yaxis\":{\"backgroundcolor\":\"#E5ECF6\",\"gridcolor\":\"white\",\"linecolor\":\"white\",\"showbackground\":true,\"ticks\":\"\",\"zerolinecolor\":\"white\",\"gridwidth\":2},\"zaxis\":{\"backgroundcolor\":\"#E5ECF6\",\"gridcolor\":\"white\",\"linecolor\":\"white\",\"showbackground\":true,\"ticks\":\"\",\"zerolinecolor\":\"white\",\"gridwidth\":2}},\"shapedefaults\":{\"line\":{\"color\":\"#2a3f5f\"}},\"annotationdefaults\":{\"arrowcolor\":\"#2a3f5f\",\"arrowhead\":0,\"arrowwidth\":1},\"geo\":{\"bgcolor\":\"white\",\"landcolor\":\"#E5ECF6\",\"subunitcolor\":\"white\",\"showland\":true,\"showlakes\":true,\"lakecolor\":\"white\"},\"title\":{\"x\":0.05},\"mapbox\":{\"style\":\"light\"}}},\"xaxis\":{\"anchor\":\"y\",\"domain\":[0.0,1.0],\"title\":{\"text\":\"Tipo de Contrato\"}},\"yaxis\":{\"anchor\":\"x\",\"domain\":[0.0,1.0],\"title\":{\"text\":\"Percentual (%)\"},\"ticksuffix\":\"%\"},\"coloraxis\":{\"colorbar\":{\"title\":{\"text\":\"Churn (Cancelamento)\"}},\"colorscale\":[[0.0,\"#0d0887\"],[0.1111111111111111,\"#46039f\"],[0.2222222222222222,\"#7201a8\"],[0.3333333333333333,\"#9c179e\"],[0.4444444444444444,\"#bd3786\"],[0.5555555555555556,\"#d8576b\"],[0.6666666666666666,\"#ed7953\"],[0.7777777777777778,\"#fb9f3a\"],[0.8888888888888888,\"#fdca26\"],[1.0,\"#f0f921\"]]},\"legend\":{\"tracegroupgap\":0},\"title\":{\"text\":\"📉 Taxa de Churn por Tipo de Contrato na Telecom X\"},\"barmode\":\"stack\",\"bargap\":0.5},                        {\"responsive\": true}                    ).then(function(){\n",
              "                            \n",
              "var gd = document.getElementById('327cfc65-06fe-4e71-82ef-be1e3b7e80aa');\n",
              "var x = new MutationObserver(function (mutations, observer) {{\n",
              "        var display = window.getComputedStyle(gd).display;\n",
              "        if (!display || display === 'none') {{\n",
              "            console.log([gd, 'removed!']);\n",
              "            Plotly.purge(gd);\n",
              "            observer.disconnect();\n",
              "        }}\n",
              "}});\n",
              "\n",
              "// Listen for the removal of the full notebook cells\n",
              "var notebookContainer = gd.closest('#notebook-container');\n",
              "if (notebookContainer) {{\n",
              "    x.observe(notebookContainer, {childList: true});\n",
              "}}\n",
              "\n",
              "// Listen for the clearing of the current output cell\n",
              "var outputEl = gd.closest('.output');\n",
              "if (outputEl) {{\n",
              "    x.observe(outputEl, {childList: true});\n",
              "}}\n",
              "\n",
              "                        })                };                            </script>        </div>\n",
              "</body>\n",
              "</html>"
            ]
          },
          "metadata": {}
        }
      ]
    },
    {
      "cell_type": "markdown",
      "source": [
        "Divisão dos Dados em Treino, Validação e Teste"
      ],
      "metadata": {
        "id": "W4_9sPdKgfpq"
      }
    },
    {
      "cell_type": "code",
      "source": [
        "from sklearn.model_selection import train_test_split\n",
        "\n",
        "X_train, X_temp, y_train, y_temp = train_test_split(X, y, test_size=0.3, random_state=42, stratify=y)\n",
        "X_val, X_test, y_val, y_test = train_test_split(X_temp, y_temp, test_size=0.5, random_state=42, stratify=y_temp)\n",
        "\n",
        "print(\"Shape of X_train:\", X_train.shape)\n",
        "print(\"Shape of X_test:\", X_test.shape)\n",
        "print(\"Shape of y_train:\", y_train.shape)\n",
        "print(\"Shape of y_test:\", y_test.shape)"
      ],
      "metadata": {
        "colab": {
          "base_uri": "https://localhost:8080/"
        },
        "id": "kkGjCa65gcZn",
        "outputId": "b313d295-419d-41c5-e91b-8772141d4ee2"
      },
      "execution_count": 106,
      "outputs": [
        {
          "output_type": "stream",
          "name": "stdout",
          "text": [
            "Shape of X_train: (4930, 15)\n",
            "Shape of X_test: (1057, 15)\n",
            "Shape of y_train: (4930,)\n",
            "Shape of y_test: (1057,)\n"
          ]
        }
      ]
    },
    {
      "cell_type": "markdown",
      "source": [
        "Pré-processamento (aplicado somente após a divisão)"
      ],
      "metadata": {
        "id": "h0TasanRgpWO"
      }
    },
    {
      "cell_type": "code",
      "source": [
        "import pandas as pd\n",
        "from sklearn.preprocessing import OneHotEncoder\n",
        "\n",
        "# Identificar colunas categóricas e numéricas\n",
        "categorical_cols = X_train.select_dtypes(include=['object', 'category']).columns\n",
        "numeric_cols = X_train.select_dtypes(exclude=['object', 'category']).columns\n",
        "\n",
        "# Criar o OneHotEncoder\n",
        "encoder = OneHotEncoder(handle_unknown='ignore', sparse_output=False)\n",
        "\n",
        "# Ajustar (fit) apenas com os dados de treino\n",
        "encoder.fit(X_train[categorical_cols])\n",
        "\n",
        "# Transformar treino, validação e teste\n",
        "X_train_encoded = pd.DataFrame(\n",
        "    encoder.transform(X_train[categorical_cols]),\n",
        "    columns=encoder.get_feature_names_out(categorical_cols),\n",
        "    index=X_train.index\n",
        ")\n",
        "\n",
        "X_val_encoded = pd.DataFrame(\n",
        "    encoder.transform(X_val[categorical_cols]),\n",
        "    columns=encoder.get_feature_names_out(categorical_cols),\n",
        "    index=X_val.index\n",
        ")\n",
        "\n",
        "X_test_encoded = pd.DataFrame(\n",
        "    encoder.transform(X_test[categorical_cols]),\n",
        "    columns=encoder.get_feature_names_out(categorical_cols),\n",
        "    index=X_test.index\n",
        ")\n",
        "\n",
        "# Reconcatenar com as colunas numéricas originais\n",
        "X_train_final = pd.concat([X_train[numeric_cols].reset_index(drop=True), X_train_encoded.reset_index(drop=True)], axis=1)\n",
        "X_val_final   = pd.concat([X_val[numeric_cols].reset_index(drop=True),   X_val_encoded.reset_index(drop=True)], axis=1)\n",
        "X_test_final  = pd.concat([X_test[numeric_cols].reset_index(drop=True),  X_test_encoded.reset_index(drop=True)], axis=1)\n",
        ""
      ],
      "metadata": {
        "id": "vrqilDsfgr-3"
      },
      "execution_count": 107,
      "outputs": []
    },
    {
      "cell_type": "markdown",
      "source": [
        "# Modelagem Preditiva"
      ],
      "metadata": {
        "id": "bcH3wbp9gx2V"
      }
    },
    {
      "cell_type": "markdown",
      "source": [
        "Normalização / Padronização das variáveis numéricas"
      ],
      "metadata": {
        "id": "PiwgwJEYg1cs"
      }
    },
    {
      "cell_type": "code",
      "source": [
        "from sklearn.preprocessing import StandardScaler\n",
        "\n",
        "scaler = StandardScaler()\n",
        "\n",
        "scaler.fit(X_train_final)\n",
        "\n",
        "# Transformar treino, validação e teste\n",
        "X_train_scaled = pd.DataFrame(\n",
        "    scaler.transform(X_train_final),\n",
        "    columns=X_train_final.columns,\n",
        "    index=X_train_final.index\n",
        ")\n",
        "\n",
        "X_val_scaled = pd.DataFrame(\n",
        "    scaler.transform(X_val_final),\n",
        "    columns=X_val_final.columns,\n",
        "    index=X_val_final.index\n",
        ")\n"
      ],
      "metadata": {
        "id": "JK9MCWQggxf1"
      },
      "execution_count": 108,
      "outputs": []
    },
    {
      "cell_type": "markdown",
      "source": [
        "Avaliação de Desempenho dos Modelos"
      ],
      "metadata": {
        "id": "_KWS4S6jhQbe"
      }
    },
    {
      "cell_type": "code",
      "source": [
        "from imblearn.over_sampling import SMOTE\n",
        "from sklearn.ensemble import RandomForestClassifier\n",
        "from sklearn.impute import SimpleImputer\n",
        "from sklearn.metrics import confusion_matrix, classification_report\n",
        "import pandas as pd\n",
        "from collections import Counter\n"
      ],
      "metadata": {
        "id": "kW9VSjne88gh"
      },
      "execution_count": 109,
      "outputs": []
    },
    {
      "cell_type": "code",
      "source": [
        "imputer = SimpleImputer(strategy='median')\n",
        "\n",
        "X_train_imputed = pd.DataFrame(imputer.fit_transform(X_train_final), columns=X_train_final.columns)\n",
        "X_val_imputed = pd.DataFrame(imputer.transform(X_val_final), columns=X_val_final.columns)\n",
        "X_test_imputed = pd.DataFrame(imputer.transform(X_test_final), columns=X_test_final.columns)"
      ],
      "metadata": {
        "id": "yJVHRtQD8Vzo"
      },
      "execution_count": 110,
      "outputs": []
    },
    {
      "cell_type": "code",
      "source": [
        "X_train_imputed = pd.DataFrame(imputer.fit_transform(X_train_final), columns=X_train_final.columns)"
      ],
      "metadata": {
        "id": "obWEUhRd8xLq"
      },
      "execution_count": 111,
      "outputs": []
    },
    {
      "cell_type": "code",
      "source": [
        "X_val_final_imputed = pd.DataFrame(imputer.transform(X_val_final), columns=X_val_final.columns)\n",
        "X_test_final_imputed = pd.DataFrame(imputer.transform(X_test_final), columns=X_test_final.columns)"
      ],
      "metadata": {
        "id": "kdHAu_DE8efk"
      },
      "execution_count": 112,
      "outputs": []
    },
    {
      "cell_type": "code",
      "source": [
        "print(\"Distribuição original treino:\", Counter(y_train))\n",
        "smote = SMOTE(random_state=42)\n",
        "X_train_bal, y_train_bal = smote.fit_resample(X_train_imputed, y_train)\n",
        "print(\"Distribuição treino após SMOTE:\", Counter(y_train_bal))\n"
      ],
      "metadata": {
        "colab": {
          "base_uri": "https://localhost:8080/"
        },
        "id": "1MHGY9_-8iG4",
        "outputId": "765c88db-dbba-4cc1-c743-1a2cfa1edb05"
      },
      "execution_count": 113,
      "outputs": [
        {
          "output_type": "stream",
          "name": "stdout",
          "text": [
            "Distribuição original treino: Counter({False: 3622, True: 1308})\n",
            "Distribuição treino após SMOTE: Counter({False: 3622, True: 3622})\n"
          ]
        }
      ]
    },
    {
      "cell_type": "code",
      "source": [
        "rf = RandomForestClassifier(n_estimators=300, random_state=42)\n",
        "rf.fit(X_train_bal, y_train_bal)\n",
        "\n",
        "y_val_pred = rf.predict(X_val_imputed)\n",
        "print(\"\\n[Matriz de Confusão - Validação | RF]\")\n",
        "print(pd.DataFrame(confusion_matrix(y_val, y_val_pred),\n",
        "                   index=[\"Real 0\",\"Real 1\"], columns=[\"Pred 0\",\"Pred 1\"]))\n",
        "print(\"\\n[Classification Report - Validação | RF]\")\n",
        "print(classification_report(y_val, y_val_pred))\n",
        "\n",
        "y_test_pred = rf.predict(X_test_imputed)\n",
        "print(\"\\n[Matriz de Confusão - Teste | RF]\")\n",
        "print(pd.DataFrame(confusion_matrix(y_test, y_test_pred),\n",
        "                   index=[\"Real 0\",\"Real 1\"], columns=[\"Pred 0\",\"Pred 1\"]))\n",
        "print(\"\\n[Classification Report - Teste | RF]\")\n",
        "print(classification_report(y_test, y_test_pred))"
      ],
      "metadata": {
        "colab": {
          "base_uri": "https://localhost:8080/"
        },
        "id": "DL-FPsHA9MX_",
        "outputId": "54820b83-238d-4ea9-9934-017cb80dc226"
      },
      "execution_count": 114,
      "outputs": [
        {
          "output_type": "stream",
          "name": "stdout",
          "text": [
            "\n",
            "[Matriz de Confusão - Validação | RF]\n",
            "        Pred 0  Pred 1\n",
            "Real 0     685      91\n",
            "Real 1     141     139\n",
            "\n",
            "[Classification Report - Validação | RF]\n",
            "              precision    recall  f1-score   support\n",
            "\n",
            "       False       0.83      0.88      0.86       776\n",
            "        True       0.60      0.50      0.55       280\n",
            "\n",
            "    accuracy                           0.78      1056\n",
            "   macro avg       0.72      0.69      0.70      1056\n",
            "weighted avg       0.77      0.78      0.77      1056\n",
            "\n",
            "\n",
            "[Matriz de Confusão - Teste | RF]\n",
            "        Pred 0  Pred 1\n",
            "Real 0     676     100\n",
            "Real 1     138     143\n",
            "\n",
            "[Classification Report - Teste | RF]\n",
            "              precision    recall  f1-score   support\n",
            "\n",
            "       False       0.83      0.87      0.85       776\n",
            "        True       0.59      0.51      0.55       281\n",
            "\n",
            "    accuracy                           0.77      1057\n",
            "   macro avg       0.71      0.69      0.70      1057\n",
            "weighted avg       0.77      0.77      0.77      1057\n",
            "\n"
          ]
        }
      ]
    },
    {
      "cell_type": "code",
      "source": [
        "from sklearn.preprocessing import StandardScaler\n",
        "from sklearn.impute import SimpleImputer\n",
        "\n",
        "imputer = SimpleImputer(strategy='median')\n",
        "X_train_imputed = pd.DataFrame(imputer.fit_transform(X_train_final), columns=X_train_final.columns)\n",
        "X_val_imputed = pd.DataFrame(imputer.transform(X_val_final), columns=X_val_final.columns)\n",
        "X_test_imputed = pd.DataFrame(imputer.transform(X_test_final), columns=X_test_final.columns)\n",
        "\n",
        "scaler = StandardScaler()\n",
        "X_train_scaled = pd.DataFrame(scaler.fit_transform(X_train_imputed), columns=X_train_imputed.columns)\n",
        "X_val_scaled = pd.DataFrame(scaler.transform(X_val_imputed), columns=X_val_imputed.columns)\n",
        "X_test_scaled = pd.DataFrame(scaler.transform(X_test_imputed), columns=X_test_imputed.columns)\n"
      ],
      "metadata": {
        "id": "1-KQ9ytrhcWX"
      },
      "execution_count": 115,
      "outputs": []
    },
    {
      "cell_type": "code",
      "source": [
        "from sklearn.neighbors import KNeighborsClassifier\n",
        "\n",
        "knn = KNeighborsClassifier(n_neighbors=5)\n",
        "knn.fit(X_train_scaled, y_train)\n",
        "\n",
        "print(\"KNN Val Score:\", knn.score(X_val_scaled, y_val))\n",
        "print(\"KNN Test Score:\", knn.score(X_test_scaled, y_test))"
      ],
      "metadata": {
        "colab": {
          "base_uri": "https://localhost:8080/"
        },
        "id": "-LrAMMS1-nND",
        "outputId": "b70e68f2-542b-41ba-87cd-046cb3234d03"
      },
      "execution_count": 116,
      "outputs": [
        {
          "output_type": "stream",
          "name": "stdout",
          "text": [
            "KNN Val Score: 0.7575757575757576\n",
            "KNN Test Score: 0.7578051087984863\n"
          ]
        }
      ]
    },
    {
      "cell_type": "markdown",
      "source": [
        "Matriz de Confusão"
      ],
      "metadata": {
        "id": "DF8-wdbjhgu3"
      }
    },
    {
      "cell_type": "code",
      "source": [
        "from sklearn.compose import ColumnTransformer\n",
        "from sklearn.preprocessing import OneHotEncoder, StandardScaler\n",
        "from sklearn.pipeline import Pipeline\n",
        "from sklearn.ensemble import RandomForestClassifier\n",
        "from sklearn.model_selection import train_test_split\n",
        "from sklearn.metrics import classification_report, accuracy_score\n",
        "\n",
        "categorical_cols = X_train.select_dtypes(include=['object', 'category']).columns\n",
        "numeric_cols = X_train.select_dtypes(exclude=['object', 'category']).columns\n",
        "\n",
        "preprocessor = ColumnTransformer(\n",
        "    transformers=[\n",
        "        ('num', StandardScaler(), numeric_cols),\n",
        "        ('cat', OneHotEncoder(handle_unknown='ignore', sparse_output=False), categorical_cols)\n",
        "    ],\n",
        "    remainder='passthrough'\n",
        ")\n",
        "\n",
        "# Pipeline com Random Forest\n",
        "rf_pipeline = Pipeline(steps=[\n",
        "    ('preprocess', preprocessor),\n",
        "    ('model', RandomForestClassifier(\n",
        "        n_estimators=200,\n",
        "        random_state=42,\n",
        "        class_weight='balanced'\n",
        "    ))\n",
        "])\n",
        "\n",
        "rf_pipeline.fit(X_train, y_train)\n",
        "\n",
        "print(\"Pipeline Random Forest definido e treinado.\")"
      ],
      "metadata": {
        "colab": {
          "base_uri": "https://localhost:8080/"
        },
        "id": "iMEsAjX8he-S",
        "outputId": "6841618e-e917-4b3b-b9f2-008dee34c200"
      },
      "execution_count": 117,
      "outputs": [
        {
          "output_type": "stream",
          "name": "stdout",
          "text": [
            "Pipeline Random Forest definido e treinado.\n"
          ]
        }
      ]
    },
    {
      "cell_type": "code",
      "source": [
        "from sklearn.ensemble import RandomForestClassifier\n",
        "from sklearn.metrics import confusion_matrix, classification_report\n",
        "import seaborn as sns\n",
        "import matplotlib.pyplot as plt\n",
        "import numpy as np\n",
        "\n",
        "# Fazer previsões usando o pipeline treinado\n",
        "y_pred = rf_pipeline.predict(X_test)\n",
        "\n",
        "# Matriz de confusão\n",
        "cm = confusion_matrix(y_test, y_pred)\n",
        "\n",
        "plt.figure(figsize=(6,4))\n",
        "sns.heatmap(cm, annot=True, fmt=\"d\", cmap=\"Blues\", xticklabels=np.unique(y_test), yticklabels=np.unique(y_test))\n",
        "plt.xlabel(\"Previsto\")\n",
        "plt.ylabel(\"Real\")\n",
        "plt.title(\"Matriz de Confusão - Random Forest\")\n",
        "plt.show()\n",
        "\n"
      ],
      "metadata": {
        "colab": {
          "base_uri": "https://localhost:8080/",
          "height": 410
        },
        "id": "UBbkXOPEhsT4",
        "outputId": "356992d3-8544-403e-926d-ecd7bfedcdbd"
      },
      "execution_count": 118,
      "outputs": [
        {
          "output_type": "display_data",
          "data": {
            "text/plain": [
              "<Figure size 600x400 with 2 Axes>"
            ],
            "image/png": "[encoded data removed]"
          },
          "metadata": {}
        }
      ]
    },
    {
      "cell_type": "markdown",
      "source": [
        "Treinamento do KNN com normalização + SMOTE"
      ],
      "metadata": {
        "id": "dBe1j0yChzGI"
      }
    },
    {
      "cell_type": "code",
      "source": [
        "from sklearn.impute import SimpleImputer\n",
        "from sklearn.preprocessing import StandardScaler\n",
        "from imblearn.over_sampling import SMOTE\n",
        "from sklearn.neighbors import KNeighborsClassifier\n",
        "from sklearn.metrics import confusion_matrix, classification_report\n",
        "from collections import Counter\n",
        "import pandas as pd\n",
        "import seaborn as sns\n",
        "import matplotlib.pyplot as plt\n",
        "import numpy as np\n",
        "\n",
        "imputer = SimpleImputer(strategy='median')\n",
        "X_train_imputed = pd.DataFrame(imputer.fit_transform(X_train_final), columns=X_train_final.columns)\n",
        "X_val_imputed   = pd.DataFrame(imputer.transform(X_val_final), columns=X_val_final.columns)\n",
        "X_test_imputed  = pd.DataFrame(imputer.transform(X_test_final), columns=X_test_final.columns)\n",
        "\n",
        "scaler = StandardScaler()\n",
        "X_train_scaled = pd.DataFrame(scaler.fit_transform(X_train_imputed), columns=X_train_imputed.columns)\n",
        "X_val_scaled   = pd.DataFrame(scaler.transform(X_val_imputed), columns=X_val_imputed.columns)\n",
        "X_test_scaled  = pd.DataFrame(scaler.transform(X_test_imputed), columns=X_test_imputed.columns)\n",
        "\n",
        "print(\"Train (antes):\", Counter(y_train))\n",
        "smote_knn = SMOTE(random_state=42)\n",
        "X_train_bal_knn, y_train_bal_knn = smote_knn.fit_resample(X_train_scaled, y_train)\n",
        "print(\"Train (depois SMOTE):\", Counter(y_train_bal_knn))\n",
        "\n",
        "knn = KNeighborsClassifier(n_neighbors=5)\n",
        "knn.fit(X_train_bal_knn, y_train_bal_knn)\n",
        "\n",
        "y_val_pred_knn = knn.predict(X_val_scaled)\n",
        "print(\"\\n[Matriz de Confusão - Validação | KNN]\")\n",
        "print(pd.DataFrame(confusion_matrix(y_val, y_val_pred_knn),\n",
        "                   index=[\"Real 0\",\"Real 1\"], columns=[\"Pred 0\",\"Pred 1\"]))\n",
        "print(\"\\n[Classification Report - Validação | KNN]\")\n",
        "print(classification_report(y_val, y_val_pred_knn))\n",
        "\n",
        "y_test_pred_knn = knn.predict(X_test_scaled)\n",
        "cm_test_knn = confusion_matrix(y_test, y_test_pred_knn)\n",
        "plt.figure(figsize=(6, 4))\n",
        "sns.heatmap(cm_test_knn, annot=True, fmt=\"d\", cmap=\"Blues\",\n",
        "            xticklabels=np.unique(y_test), yticklabels=np.unique(y_test))\n",
        "plt.xlabel(\"Previsto\")\n",
        "plt.ylabel(\"Real\")\n",
        "plt.title(\"Matriz de Confusão - Teste KNN\")\n",
        "plt.show()\n",
        "\n",
        "print(\"\\n[Classification Report - Teste | KNN]\")\n",
        "print(classification_report(y_test, y_test_pred_knn))\n"
      ],
      "metadata": {
        "colab": {
          "base_uri": "https://localhost:8080/",
          "height": 913
        },
        "id": "eVyTZdTW_OzA",
        "outputId": "ccb2a5fb-e11f-4076-bb23-36837747d87f"
      },
      "execution_count": 119,
      "outputs": [
        {
          "output_type": "stream",
          "name": "stdout",
          "text": [
            "Train (antes): Counter({False: 3622, True: 1308})\n",
            "Train (depois SMOTE): Counter({False: 3622, True: 3622})\n",
            "\n",
            "[Matriz de Confusão - Validação | KNN]\n",
            "        Pred 0  Pred 1\n",
            "Real 0     559     217\n",
            "Real 1      98     182\n",
            "\n",
            "[Classification Report - Validação | KNN]\n",
            "              precision    recall  f1-score   support\n",
            "\n",
            "       False       0.85      0.72      0.78       776\n",
            "        True       0.46      0.65      0.54       280\n",
            "\n",
            "    accuracy                           0.70      1056\n",
            "   macro avg       0.65      0.69      0.66      1056\n",
            "weighted avg       0.75      0.70      0.72      1056\n",
            "\n"
          ]
        },
        {
          "output_type": "display_data",
          "data": {
            "text/plain": [
              "<Figure size 600x400 with 2 Axes>"
            ],
            "image/png": "[encoded data removed]"
          },
          "metadata": {}
        },
        {
          "output_type": "stream",
          "name": "stdout",
          "text": [
            "\n",
            "[Classification Report - Teste | KNN]\n",
            "              precision    recall  f1-score   support\n",
            "\n",
            "       False       0.85      0.69      0.76       776\n",
            "        True       0.44      0.66      0.53       281\n",
            "\n",
            "    accuracy                           0.68      1057\n",
            "   macro avg       0.64      0.68      0.65      1057\n",
            "weighted avg       0.74      0.68      0.70      1057\n",
            "\n"
          ]
        }
      ]
    },
    {
      "cell_type": "code",
      "source": [
        "y_pred_train_rf = rf_pipeline.predict(X_train)\n",
        "\n",
        "y_pred_train_knn = knn.predict(X_train_scaled)\n",
        "\n",
        "print(\"Métricas de Avaliação no Conjunto de TREINO - Random Forest:\")\n",
        "print(classification_report(y_train, y_pred_train_rf))\n",
        "\n",
        "print(\"\\nMétricas de Avaliação no Conjunto de TREINO - KNN:\")\n",
        "print(classification_report(y_train, y_pred_train_knn))"
      ],
      "metadata": {
        "colab": {
          "base_uri": "https://localhost:8080/"
        },
        "id": "I2dcwXl0h9OI",
        "outputId": "036c0ab3-b98f-4703-90e6-d8e22277fa5f"
      },
      "execution_count": 120,
      "outputs": [
        {
          "output_type": "stream",
          "name": "stdout",
          "text": [
            "Métricas de Avaliação no Conjunto de TREINO - Random Forest:\n",
            "              precision    recall  f1-score   support\n",
            "\n",
            "       False       1.00      1.00      1.00      3622\n",
            "        True       0.99      1.00      1.00      1308\n",
            "\n",
            "    accuracy                           1.00      4930\n",
            "   macro avg       1.00      1.00      1.00      4930\n",
            "weighted avg       1.00      1.00      1.00      4930\n",
            "\n",
            "\n",
            "Métricas de Avaliação no Conjunto de TREINO - KNN:\n",
            "              precision    recall  f1-score   support\n",
            "\n",
            "       False       0.95      0.80      0.87      3622\n",
            "        True       0.62      0.87      0.72      1308\n",
            "\n",
            "    accuracy                           0.82      4930\n",
            "   macro avg       0.78      0.84      0.80      4930\n",
            "weighted avg       0.86      0.82      0.83      4930\n",
            "\n"
          ]
        }
      ]
    },
    {
      "cell_type": "markdown",
      "source": [
        "Comparativa entre Modelos"
      ],
      "metadata": {
        "id": "6PhkBCPEiI79"
      }
    },
    {
      "cell_type": "code",
      "source": [
        "print(rf_pipeline.feature_names_in_)"
      ],
      "metadata": {
        "colab": {
          "base_uri": "https://localhost:8080/"
        },
        "id": "ud0_Oga8BBer",
        "outputId": "b9d88425-d32f-457d-92a0-8f4ad11b0b6a"
      },
      "execution_count": 121,
      "outputs": [
        {
          "output_type": "stream",
          "name": "stdout",
          "text": [
            "['Idoso' 'Meses_de_Contrato' 'Valor_Mensal' 'Valor_Total'\n",
            " 'Gênero_masculino' 'Possui_Companheiro_1' 'Possui_Dependentes_1'\n",
            " 'Telefone_Ativo_1' 'Tipo_Internet_fibra óptica' 'Tipo_Contrato_bienal'\n",
            " 'Tipo_Contrato_mensal' 'Fatura_Digital_1' 'Forma_Pagamento_cheque'\n",
            " 'Forma_Pagamento_cheque eletrônico'\n",
            " 'Forma_Pagamento_transferência bancária automática']\n"
          ]
        }
      ]
    },
    {
      "cell_type": "code",
      "source": [
        "X_test_df = pd.DataFrame(X_test, columns=X_test_final.columns)\n",
        "X_test_scaled_df = pd.DataFrame(X_test_scaled, columns=X_test_final.columns)"
      ],
      "metadata": {
        "id": "ZdiKaEZpAkWe"
      },
      "execution_count": 122,
      "outputs": []
    },
    {
      "cell_type": "code",
      "source": [
        "import pandas as pd\n",
        "import numpy as np\n",
        "import matplotlib.pyplot as plt\n",
        "import seaborn as sns\n",
        "\n",
        "from sklearn.linear_model import LogisticRegression\n",
        "from sklearn.neighbors import KNeighborsClassifier\n",
        "from sklearn.ensemble import RandomForestClassifier\n",
        "from sklearn.svm import SVC\n",
        "from sklearn.inspection import permutation_importance\n",
        "\n",
        "logreg = LogisticRegression(max_iter=1000)\n",
        "logreg.fit(X_train_scaled, y_train)\n",
        "\n",
        "coef_df = pd.DataFrame({\n",
        "    'Feature': X_train_scaled.columns,\n",
        "    'Coef_LogReg': logreg.coef_[0]\n",
        "}).sort_values(by='Coef_LogReg', key=abs, ascending=False)\n",
        "\n",
        "print(\"Top 10 variáveis mais relevantes (Logística):\")\n",
        "print(coef_df.head(10))"
      ],
      "metadata": {
        "colab": {
          "base_uri": "https://localhost:8080/"
        },
        "id": "yKjcZdjtCgO0",
        "outputId": "4efa9ec2-be63-476f-ed25-887b6c1387b9"
      },
      "execution_count": 123,
      "outputs": [
        {
          "output_type": "stream",
          "name": "stdout",
          "text": [
            "Top 10 variáveis mais relevantes (Logística):\n",
            "                              Feature  Coef_LogReg\n",
            "1                   Meses_de_Contrato    -1.396750\n",
            "3                         Valor_Total     0.573973\n",
            "10               Tipo_Contrato_mensal     0.426055\n",
            "8          Tipo_Internet_fibra óptica     0.353362\n",
            "2                        Valor_Mensal     0.314415\n",
            "9                Tipo_Contrato_bienal    -0.308366\n",
            "7                    Telefone_Ativo_1    -0.242780\n",
            "13  Forma_Pagamento_cheque eletrônico     0.238794\n",
            "11                   Fatura_Digital_1     0.221811\n",
            "6                Possui_Dependentes_1    -0.103174\n"
          ]
        }
      ]
    },
    {
      "cell_type": "code",
      "source": [
        "rf = RandomForestClassifier(n_estimators=300, random_state=42)\n",
        "rf.fit(X_train_scaled, y_train)\n",
        "\n",
        "rf_importances = pd.DataFrame({\n",
        "    'Feature': X_train_scaled.columns,\n",
        "    'Importance_RF': rf.feature_importances_\n",
        "}).sort_values(by='Importance_RF', ascending=False)\n",
        "\n",
        "print(\"\\nTop 10 variáveis mais importantes (Random Forest):\")\n",
        "print(rf_importances.head(10))\n"
      ],
      "metadata": {
        "colab": {
          "base_uri": "https://localhost:8080/"
        },
        "id": "q2OcNqFOCsPH",
        "outputId": "97c49284-5fc2-4fc7-fbe6-b9b6c2f47a2f"
      },
      "execution_count": 124,
      "outputs": [
        {
          "output_type": "stream",
          "name": "stdout",
          "text": [
            "\n",
            "Top 10 variáveis mais importantes (Random Forest):\n",
            "                              Feature  Importance_RF\n",
            "3                         Valor_Total       0.236931\n",
            "2                        Valor_Mensal       0.231682\n",
            "1                   Meses_de_Contrato       0.190727\n",
            "10               Tipo_Contrato_mensal       0.081386\n",
            "8          Tipo_Internet_fibra óptica       0.042953\n",
            "13  Forma_Pagamento_cheque eletrônico       0.039231\n",
            "4                    Gênero_masculino       0.028436\n",
            "11                   Fatura_Digital_1       0.027788\n",
            "5                Possui_Companheiro_1       0.022114\n",
            "0                               Idoso       0.021126\n"
          ]
        }
      ]
    },
    {
      "cell_type": "code",
      "source": [
        "knn = KNeighborsClassifier(n_neighbors=5)\n",
        "knn.fit(X_train_scaled, y_train)\n",
        "\n",
        "knn_result = permutation_importance(knn, X_test_scaled, y_test, n_repeats=10, random_state=42)\n",
        "knn_importances = pd.DataFrame({\n",
        "    'Feature': X_train_scaled.columns,\n",
        "    'Importance_KNN': knn_result.importances_mean\n",
        "}).sort_values(by='Importance_KNN', ascending=False)\n",
        "\n",
        "print(\"\\nTop 10 variáveis mais importantes (KNN):\")\n",
        "print(knn_importances.head(10))"
      ],
      "metadata": {
        "colab": {
          "base_uri": "https://localhost:8080/"
        },
        "id": "UtuoFYWiCxmV",
        "outputId": "4fac764e-776d-49e2-9212-0a978a4cac10"
      },
      "execution_count": 125,
      "outputs": [
        {
          "output_type": "stream",
          "name": "stdout",
          "text": [
            "\n",
            "Top 10 variáveis mais importantes (KNN):\n",
            "                       Feature  Importance_KNN\n",
            "8   Tipo_Internet_fibra óptica        0.023368\n",
            "3                  Valor_Total        0.015043\n",
            "10        Tipo_Contrato_mensal        0.012110\n",
            "1            Meses_de_Contrato        0.011353\n",
            "0                        Idoso        0.009366\n",
            "11            Fatura_Digital_1        0.004257\n",
            "2                 Valor_Mensal        0.003500\n",
            "6         Possui_Dependentes_1        0.000095\n",
            "5         Possui_Companheiro_1       -0.000284\n",
            "7             Telefone_Ativo_1       -0.000378\n"
          ]
        }
      ]
    },
    {
      "cell_type": "code",
      "source": [
        "svm = SVC(kernel='linear', probability=True)\n",
        "svm.fit(X_train_scaled, y_train)\n",
        "\n",
        "svm_coef_df = pd.DataFrame({\n",
        "    'Feature': X_train_scaled.columns,\n",
        "    'Coef_SVM': svm.coef_[0]\n",
        "}).sort_values(by='Coef_SVM', key=abs, ascending=False)\n",
        "\n",
        "print(\"\\nTop 10 variáveis mais relevantes (SVM linear):\")\n",
        "print(svm_coef_df.head(10))\n"
      ],
      "metadata": {
        "colab": {
          "base_uri": "https://localhost:8080/"
        },
        "id": "HEZwUPh6C1P9",
        "outputId": "c3d27600-2954-4693-cf58-2c83e311d374"
      },
      "execution_count": 126,
      "outputs": [
        {
          "output_type": "stream",
          "name": "stdout",
          "text": [
            "\n",
            "Top 10 variáveis mais relevantes (SVM linear):\n",
            "                              Feature  Coef_SVM\n",
            "8          Tipo_Internet_fibra óptica  0.595483\n",
            "1                   Meses_de_Contrato -0.471101\n",
            "3                         Valor_Total -0.380801\n",
            "2                        Valor_Mensal  0.206758\n",
            "13  Forma_Pagamento_cheque eletrônico  0.200665\n",
            "10               Tipo_Contrato_mensal  0.193954\n",
            "7                    Telefone_Ativo_1 -0.115065\n",
            "11                   Fatura_Digital_1  0.109772\n",
            "9                Tipo_Contrato_bienal  0.083591\n",
            "0                               Idoso  0.068242\n"
          ]
        }
      ]
    },
    {
      "cell_type": "code",
      "source": [
        "knn = KNeighborsClassifier(n_neighbors=5)\n",
        "knn.fit(X_train_scaled, y_train)\n",
        "\n",
        "knn_result = permutation_importance(knn, X_test_scaled, y_test, n_repeats=10, random_state=42)\n",
        "knn_importances = pd.DataFrame({\n",
        "    'Feature': X_train_scaled.columns,\n",
        "    'Importance_KNN': knn_result.importances_mean\n",
        "}).sort_values(by='Importance_KNN', ascending=False)\n",
        "\n",
        "print(\"\\nTop 10 variáveis mais importantes (KNN):\")\n",
        "print(knn_importances.head(10))"
      ],
      "metadata": {
        "colab": {
          "base_uri": "https://localhost:8080/"
        },
        "id": "rf2FH9_cDBVv",
        "outputId": "9be360e6-289b-475a-e4b0-4d0a5486297f"
      },
      "execution_count": 127,
      "outputs": [
        {
          "output_type": "stream",
          "name": "stdout",
          "text": [
            "\n",
            "Top 10 variáveis mais importantes (KNN):\n",
            "                       Feature  Importance_KNN\n",
            "8   Tipo_Internet_fibra óptica        0.023368\n",
            "3                  Valor_Total        0.015043\n",
            "10        Tipo_Contrato_mensal        0.012110\n",
            "1            Meses_de_Contrato        0.011353\n",
            "0                        Idoso        0.009366\n",
            "11            Fatura_Digital_1        0.004257\n",
            "2                 Valor_Mensal        0.003500\n",
            "6         Possui_Dependentes_1        0.000095\n",
            "5         Possui_Companheiro_1       -0.000284\n",
            "7             Telefone_Ativo_1       -0.000378\n"
          ]
        }
      ]
    },
    {
      "cell_type": "code",
      "source": [
        "svm = SVC(kernel='linear', probability=True)\n",
        "svm.fit(X_train_scaled, y_train)\n",
        "\n",
        "svm_coef_df = pd.DataFrame({\n",
        "    'Feature': X_train_scaled.columns,\n",
        "    'Coef_SVM': svm.coef_[0]\n",
        "}).sort_values(by='Coef_SVM', key=abs, ascending=False)\n",
        "\n",
        "print(\"\\nTop 10 variáveis mais relevantes (SVM linear):\")\n",
        "print(svm_coef_df.head(10))\n",
        "\n",
        "top_features = coef_df.head(10)['Feature'].tolist()\n",
        "\n",
        "importance_plot_df = pd.DataFrame({\n",
        "    'Feature': top_features,\n",
        "    'LogReg': coef_df.set_index('Feature').loc[top_features, 'Coef_LogReg'].abs(),\n",
        "    'RF': rf_importances.set_index('Feature').loc[top_features, 'Importance_RF'],\n",
        "    'KNN': knn_importances.set_index('Feature').loc[top_features, 'Importance_KNN'],\n",
        "    'SVM': svm_coef_df.set_index('Feature').loc[top_features, 'Coef_SVM'].abs()\n",
        "}).reset_index(drop=True)\n"
      ],
      "metadata": {
        "colab": {
          "base_uri": "https://localhost:8080/"
        },
        "id": "TjIH3IydDLsI",
        "outputId": "1921edfe-0273-439a-9cf2-122f40fa5e7f"
      },
      "execution_count": 128,
      "outputs": [
        {
          "output_type": "stream",
          "name": "stdout",
          "text": [
            "\n",
            "Top 10 variáveis mais relevantes (SVM linear):\n",
            "                              Feature  Coef_SVM\n",
            "8          Tipo_Internet_fibra óptica  0.595483\n",
            "1                   Meses_de_Contrato -0.471101\n",
            "3                         Valor_Total -0.380801\n",
            "2                        Valor_Mensal  0.206758\n",
            "13  Forma_Pagamento_cheque eletrônico  0.200665\n",
            "10               Tipo_Contrato_mensal  0.193954\n",
            "7                    Telefone_Ativo_1 -0.115065\n",
            "11                   Fatura_Digital_1  0.109772\n",
            "9                Tipo_Contrato_bienal  0.083591\n",
            "0                               Idoso  0.068242\n"
          ]
        }
      ]
    },
    {
      "cell_type": "markdown",
      "source": [
        "## Análise"
      ],
      "metadata": {
        "id": "K9ujCebaN2m-"
      }
    },
    {
      "cell_type": "code",
      "source": [
        "importance_plot_df.set_index('Feature').plot(kind='bar', figsize=(12,6))\n",
        "plt.ylabel(\"Importância (absoluta)\")\n",
        "plt.title(\"Comparação da importância das variáveis nos modelos\")\n",
        "plt.xticks(rotation=45)\n",
        "plt.tight_layout()\n",
        "plt.show()\n"
      ],
      "metadata": {
        "colab": {
          "base_uri": "https://localhost:8080/",
          "height": 339
        },
        "id": "1_eBrEjKAoF6",
        "outputId": "b3653de2-b3d1-4c6a-e33a-9e6f0f1dd28a"
      },
      "execution_count": 129,
      "outputs": [
        {
          "output_type": "display_data",
          "data": {
            "text/plain": [
              "<Figure size 1200x600 with 1 Axes>"
            ],
            "image/png": "[encoded data removed]"
          },
          "metadata": {}
        }
      ]
    },
    {
      "cell_type": "markdown",
      "source": [
        "# *Conclusão*"
      ],
      "metadata": {
        "id": "3yQliN7kH8t1"
      }
    },
    {
      "cell_type": "markdown",
      "source": [
        "Carreguei o arquivo CSV so projeto anterior e comecei as avaliações.\n",
        "\n",
        "para o tratamento de dados e pré processamento comecei a análise subistituindo \"sem internet\" por \"não\" e que significa a ausência do serviço.\n",
        "\n",
        "\n",
        "já no enconding o tratamento dos dados foi para transformar as variáveis categóricas em formato numérico para torná-las compatíveis com algoritmos de machine learning. Utilizaremos um método de codificação adequado, como o one-hot encoding.\n",
        "\n",
        "\n",
        "Transformei as variáveis categóricas em colunas binárias (dummies), descartando uma categoria para evitar redundância, preparando os dados para o modelo preditivo.\n",
        "\n",
        "\n",
        "No calculo da proporção de evasão dos clientes avaliei se existe um desiquilibrio entre as classes, o que pode impacter modelos e análises de resultado.\n",
        "\n",
        "\n",
        "A evasão na sua maior parte deve-se ao valor da cobrança mensal.\n",
        "\n",
        "o segundo grande motivo do cancelamento se dá por conta dos clientes idosos, existe uma maior evasão entre eles.\n",
        "\n",
        "\n",
        "quanto maior o tempo de permanência o cliente tem menos chance de cancelar o produto.\n",
        "\n",
        "E os que pagam mais ao longo do tempo tendem a permanecer também.\n",
        "\n",
        "para que tenha melhorias sugiro que melhore os planos oferecidos aos clientes, os contratos também.\n"
      ],
      "metadata": {
        "id": "fAb5kU9eICJ-"
      }
    },
    {
      "cell_type": "markdown",
      "source": [
        "Os dados foram dividios em treinamento, validação e teste.\n",
        "\n",
        "Conjunto de Treinamento: Usado para ajustar o modelo, permitindo que ele aprenda os padrões dos dados.\n",
        "\n",
        "\n",
        "Conjunto de Validação: Utilizado durante o projeto para comparar diferentes modelos e ajustar seus hiperparâmetros. Ele permite avaliar o desempenho do modelo em dados \"novos\" para o treinamento, sem \"contaminar\" o conjunto de teste final.\n",
        "\n",
        "\n",
        "Conjunto de Teste: É mantido completamente separado e intocado durante todo o processo de desenvolvimento e ajuste do modelo. Ele é usado apenas uma vez, no final do projeto, para uma avaliação imparcial e final do desempenho do modelo, simulando como ele se comportaria em dados do mundo real que nunca foram vistos"
      ],
      "metadata": {
        "id": "jjSLPVIwL2nD"
      }
    },
    {
      "cell_type": "markdown",
      "source": [
        "As técnicas de balanceamento, como oversampling (SMOTE) ou undersampling (NearMiss), visam equilibrar a distribuição das classes da variável alvo para melhorar o aprendizado do modelo, especialmente para a classe minoritária."
      ],
      "metadata": {
        "id": "VESaLgCaMKzm"
      }
    },
    {
      "cell_type": "markdown",
      "source": [
        "Random Forest (sem normalização)\n",
        "\n",
        "Usaremos os conjuntos já codificados: X_train_final, X_val_final, X_test_final (do passo de encoding). Não se aplica SMOTE em validação/teste."
      ],
      "metadata": {
        "id": "Y19qwVtMMWwe"
      }
    },
    {
      "cell_type": "markdown",
      "source": [
        "KNN – K Vizinhos Mais Próximos (com normalização)\n",
        "\n",
        "Classifica os clientes com base na distância dos vizinhos mais próximos.\n",
        "\n",
        "\n",
        "Requer normalização, pois é altamente sensível à escala das variáveis.\n",
        "\n",
        "\n",
        "Simples e intuitivo, mas pode ter performance inferior com dados desbalanceados.\n",
        "\n",
        "\n",
        "Apresentou métricas medianas e sinal de underfitting."
      ],
      "metadata": {
        "id": "D80fb6oHMoLC"
      }
    },
    {
      "cell_type": "markdown",
      "source": [
        "# **Análise de Importância das Variáveis**"
      ],
      "metadata": {
        "id": "FndNgShUM55-"
      }
    },
    {
      "cell_type": "markdown",
      "source": [
        "O gráfico abaixo exibe as variáveis mais relevantes identificadas pelo modelo Regressão Logística, treinado com dados normalizados, para prever a evasão de clientes.\n",
        "\n",
        "\n",
        "As variáveis posicionadas no topo do gráfico apresentam maior influência nas decisões do modelo, com base na magnitude dos coeficientes. Isso significa que pequenas variações nessas variáveis têm um impacto significativo na probabilidade de um cliente cancelar os serviços."
      ],
      "metadata": {
        "id": "puM0kGr5M3yj"
      }
    },
    {
      "cell_type": "markdown",
      "source": [
        "O modelo Regressão Logística apresentou o melhor desempenho entre os avaliados, alcançando acurácia de aproximadamente 79,96%, além de melhores resultados nas métricas de Precisão (65,44%), Recall (52,14%) e F1-Score (58,04%), essenciais para identificar corretamente clientes propensos à evasão.\n",
        "\n",
        "O modelo Random Forest, apesar de ter boa acurácia (78,96%), apresentou desempenho inferior nas métricas de precisão e recall, mostrando-se menos eficaz para o problema específico.\n",
        "As variáveis com maior impacto na previsão incluem:\n",
        "Tempo de Contrato: clientes com menor tempo tendem a evadir mais.\n",
        "\n",
        "Valor Mensal: valores maiores influenciam negativamente a permanência.\n",
        "Serviços adicionais como segurança online, backup e suporte técnico mostraram relevância na modelagem."
      ],
      "metadata": {
        "id": "oxk366aVNHZ9"
      }
    },
    {
      "cell_type": "markdown",
      "source": [
        "Recomendações Estratégicas:"
      ],
      "metadata": {
        "id": "H0mkgO9dNTdq"
      }
    },
    {
      "cell_type": "markdown",
      "source": [
        "Oferecer pacotes descontos progressivos para aumentar o tempo de fidelização e reduzir a taxa de cancelamento.\n",
        "\n",
        "monitorar contiuamente e assim evitar a evasão."
      ],
      "metadata": {
        "id": "JHshQywyNUel"
      }
    }
  ],
  "metadata": {
    "colab": {
      "provenance": []
    },
    "kernelspec": {
      "display_name": "Python 3",
      "name": "python3"
    },
    "language_info": {
      "name": "python"
    }
  },
  "nbformat": 4,
  "nbformat_minor": 0
}